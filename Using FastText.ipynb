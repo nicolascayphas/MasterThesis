{
 "cells": [
  {
   "cell_type": "code",
   "execution_count": 3,
   "id": "brown-webster",
   "metadata": {},
   "outputs": [],
   "source": [
    "import fasttext\n",
    "import pandas as pd\n",
    "import numpy as np"
   ]
  },
  {
   "cell_type": "markdown",
   "id": "dutch-might",
   "metadata": {},
   "source": [
    "# Import Data"
   ]
  },
  {
   "cell_type": "code",
   "execution_count": 4,
   "id": "solar-feature",
   "metadata": {},
   "outputs": [],
   "source": [
    "a = pd.read_json(r'C:\\Users\\nicol\\Documents\\travail\\tfe\\Thesis-main\\dataset.json',encoding='utf-8')\n",
    "df = [a[\"description\"], a['header'],a['labels'], a['title']]  #specifing which columns to take into consideration when we do the classfication\n",
    "df = pd.concat(df, axis=1, keys=[\"description\", \"header\", \"labels\",\"title\"])"
   ]
  },
  {
   "cell_type": "markdown",
   "id": "sharing-restriction",
   "metadata": {},
   "source": [
    "# Preprocess (description and general labels)"
   ]
  },
  {
   "cell_type": "code",
   "execution_count": 5,
   "id": "compliant-updating",
   "metadata": {},
   "outputs": [],
   "source": [
    "#Description preprocess using treetagger\n",
    "with open('description_prepro_with_TreeTagger.txt', 'r', encoding=\"utf-8\") as f:\n",
    "    temp = f.read() \n",
    "desc_treetag = (temp.split('\\n'))\n",
    "del(desc_treetag[-1])\n",
    "df['desc_treetag'] = desc_treetag\n",
    "\n",
    "#create collumn with only general labels\n",
    "labs = ['atelier', 'autre', 'brocante', 'cinema', 'concert', 'conference',\n",
    "       'etudiant', 'exposition', 'fete', 'lecture', 'spectacle', 'sport',\n",
    "       'theatre']\n",
    "general_labs = []\n",
    "for tup in df.labels:\n",
    "    glabs = []\n",
    "    for word in tup:            \n",
    "        if word in labs:\n",
    "            glabs.append(word)\n",
    "        else :\n",
    "            for w in word.split(\"-\"):\n",
    "                if w in labs:\n",
    "                    glabs.append(w)\n",
    "                    \n",
    "    glabs = list(dict.fromkeys(glabs))\n",
    "    general_labs.append(glabs)\n",
    "\n",
    "df['general_labels'] = general_labs"
   ]
  },
  {
   "cell_type": "markdown",
   "id": "greek-palace",
   "metadata": {},
   "source": [
    "# Transform into format readable by FastText"
   ]
  },
  {
   "cell_type": "code",
   "execution_count": 6,
   "id": "alone-quebec",
   "metadata": {},
   "outputs": [
    {
     "name": "stderr",
     "output_type": "stream",
     "text": [
      "c:\\users\\nicol\\appdata\\local\\programs\\python\\python38\\lib\\site-packages\\pandas\\core\\indexing.py:1843: SettingWithCopyWarning: \n",
      "A value is trying to be set on a copy of a slice from a DataFrame.\n",
      "Try using .loc[row_indexer,col_indexer] = value instead\n",
      "\n",
      "See the caveats in the documentation: https://pandas.pydata.org/pandas-docs/stable/user_guide/indexing.html#returning-a-view-versus-a-copy\n",
      "  self.obj[item_labels[indexer[info_axis]]] = value\n",
      "<ipython-input-6-884e652566c5>:20: SettingWithCopyWarning: \n",
      "A value is trying to be set on a copy of a slice from a DataFrame.\n",
      "Try using .loc[row_indexer,col_indexer] = value instead\n",
      "\n",
      "See the caveats in the documentation: https://pandas.pydata.org/pandas-docs/stable/user_guide/indexing.html#returning-a-view-versus-a-copy\n",
      "  dataset['lab_fasttext'] = lab_fasttext\n"
     ]
    }
   ],
   "source": [
    "def labforfasttext(labs):\n",
    "    new_labs = \"\"\n",
    "    for lab in labs:\n",
    "        new_labs = str(new_labs) + '__label__' + lab + \" \"\n",
    "    return new_labs\n",
    "\n",
    "# NLP Preprocessing\n",
    "from gensim.utils import simple_preprocess\n",
    "\n",
    "# Importing the dataset\n",
    "dataset = df[[\"desc_treetag\", \"general_labels\"]]\n",
    "\n",
    "# NLP Preprocess\n",
    "dataset.iloc[:, 0] = dataset.iloc[:, 0].apply(lambda x: ' '.join(simple_preprocess(x)))\n",
    "\n",
    "# Prefixing each row of the category column with '__label__'\n",
    "lab_fasttext = []\n",
    "for labs in df['labels'][:]:\n",
    "    lab_fasttext.append(labforfasttext(labs))\n",
    "dataset['lab_fasttext'] = lab_fasttext\n"
   ]
  },
  {
   "cell_type": "markdown",
   "id": "bottom-clark",
   "metadata": {},
   "source": [
    "# Train model"
   ]
  },
  {
   "cell_type": "code",
   "execution_count": 7,
   "id": "grateful-florida",
   "metadata": {},
   "outputs": [],
   "source": [
    "# Saving the CSV file as a text file to train/test the classifier\n",
    "import csv, random\n",
    "msk = np.random.rand(len(df)) < 0.8\n",
    "\n",
    "dataset[msk][[\"desc_treetag\", \"lab_fasttext\"]].to_csv('train.txt', \n",
    "                                          index = False, \n",
    "                                          sep = ' ',\n",
    "                                          header = None, \n",
    "                                          quoting = csv.QUOTE_NONE, \n",
    "                                          quotechar = \"\", \n",
    "                                          escapechar = \" \")\n",
    "\n",
    "dataset[~msk][[\"desc_treetag\", \"lab_fasttext\"]].to_csv('test.txt', \n",
    "                                     index = False, \n",
    "                                     sep = ' ',\n",
    "                                     header = None, \n",
    "                                     quoting = csv.QUOTE_NONE, \n",
    "                                     quotechar = \"\", \n",
    "                                     escapechar = \" \")\n",
    "\n",
    "\n",
    "\n",
    "# Training the fastText classifier\n",
    "model = fasttext.train_supervised('train.txt', wordNgrams = 2, lr=0.3, epoch=100, loss='ova')\n",
    "\n",
    "\n",
    "# Save the trained model\n",
    "#model.save_model('model.bin')"
   ]
  },
  {
   "cell_type": "markdown",
   "id": "overall-cover",
   "metadata": {},
   "source": [
    "# Test Model on One Event"
   ]
  },
  {
   "cell_type": "code",
   "execution_count": 8,
   "id": "opening-kinase",
   "metadata": {},
   "outputs": [
    {
     "name": "stdout",
     "output_type": "stream",
     "text": [
      "comment connaissance scientifique produire quel liberté quel contrainte quel maniérer contexte monde rechercher santé compétition burn out rentabilité perte sens sen manquer temps inégalité genre quel influencer exercer niveau monde recherche scientifique découvrir vie rechercher travers témoignage personnel varié bonobos cosmologie passer nouveau technologie comment rechercher carrière tout tracée parcours attendre tour proche réalité quotidien aussi processus alternatif tel science café souhaiter lieu rencontrer entre espace favoriser dialogue débattre chercher ensemble piste condition travail tout public partir an entrer libre réservation souhaiter programmer complet activité organiser cadre printemps science où quand pointculture partenaire université catholique louvain scienceinfuse\n",
      "['conference']\n",
      "((), array([], dtype=float64))\n",
      "artiste artisan producteur local nombreux tout ambiance féérique noël cœur ottignies ce édition art hiver ottignies déménager lieu emblématique ville porteur histoire poésie ferme douaire avoir veille noël artiste artisan producteur local donner faire découvrir leur œuvre art création réalisation production artisanal culinaire tout ambiance féérique quelque jour noël grange douaire exposition artiste sculpteur peintre tourneur bois créateur bijou couturier etc cadre enchanteur cave douaire nombreux atelier création thème zéro déchet création sapin noël décoration noël création textile etc bibliothèque si dessiner livre élaguer bibliothèque dès an page vieux livre pouvoir devenir support lequel artiste herbe pouvoir dessiner colorier inventer accès gratuit infos lecture conte noël famille cécile blondeel conteur venir bercer oreille histoire noël accès gratuit porte ouvrir bibliothèque infos corps logis exposition proposer chago bric broc ancien boîte biscuit bd jouet rassembler pêle coin dégustation disposition cour découvrir bière artisanal vin fruit burgers maison tartiflettes accessible samedi dimanche infos organisation ville initiative echevinat commercer collaboration centrer culturel bibliothèque ludothèque soutien province brabant wallon conseil consultatif economie\n",
      "['exposition', 'atelier', 'lecture', 'fete']\n",
      "((), array([], dtype=float64))\n",
      "jeu autre vendredi mois moi imagimonde vendredi mois moi proposer chaque mois moi soirée jeu cadrer ludothèque ottignies jeu cataloguer mettre disposition venir passer chouette soirée tester grand variété jeu nouveau ancien ambiance garantir public tout public paf réservation souhaiter infos réservation ludodouaire\n",
      "['autre']\n",
      "(('__label__autre',), array([0.99243277]))\n",
      "peter an souvenir enfance bruire botte amérique depuis tout petit fasciner livre jour grand bibliothèque père aventurer petit garçon donald ressembler énormément di décembre théâtre jean vilar réservation spectacle théâtre tilleul photo pierre atelier créatif après spectacle\n",
      "['spectacle', 'atelier', 'theatre']\n",
      "(('__label__theatre', '__label__spectacle-autre'), array([0.99702901, 0.52343035]))\n",
      "avoir découvir forum muser novembre décembre city sonic festival dédier diversité créativité art sonore cité parcours sonore composer installation environnement dispositif hybride plupart création premier belge panel city sonic célèbre plaisir écouter actif lieu métamorphoser création numérique parcourir ce seizième édition faire halte muser air investir forum muser travail collectif plasticien sonore void composer belge arnaud eeckhout mauro vitturini interroger rapport entre silence diffuser composition fréquence sonore inaudible oreille humain infra bas faisceau onder canaliser via tube plexiglass dont seul sortie air flûter déplacement air créer onde inaudible propulser air instrument commencer sonner agir matérialiser métamorphose silencer également traduire phénomène imperceptible sens sen silencer phénomène sensible multiplication dispositif obtenir composition sonore évoquer organique nature oiseau outre parcours sonore city sonic proposer concert aventureux atelier ludique performance sound walks parcourir audio géolocatif conférence écouter commenter partage écouter encore sonic radio média festival générer ce année partenariat louïz programme créatif personnaliser découvrir activité organiser cadre festival\n",
      "['autre']\n",
      "((), array([], dtype=float64))\n",
      "quand jeu vidéo inspirer jeu société venir essayer transposition jeu vidéo jeu société menu angry birds jetpack joyride jenga tetris monopoly mario kart collaboration ludothèque ludilab où quand pointculture partenaire bibliothèque ludothèque publique\n",
      "['autre']\n",
      "(('__label__autre',), array([0.96378994]))\n",
      "traversé voyage littéraire musical fil eau travers siècle découvrir ferme biéreau décembre bord paquebot transatlantique relier havre passager premier classe rencontrer modeste pianiste salon musiquer nuit venir tomber avoir lueur étoile autre mettre partager leur solitude amour musiquer littérature quel lien avoir entre george sand frédéric chopin clair lune verlaine debussy jouer depuis longtemps bateau rag time pourquoi seul beatles entre deux passager conversation engager grâce musiquer poésie bercer europe amérique traverser vendredi décembre ferme biéreau avenu jardin botanique placer polyvalent renseignement réservation info http\n",
      "['concert']\n",
      "(('__label__concert-classique',), array([0.65842754]))\n",
      "complet séance éveil musical petit matin occasion partager temps privilégier autour musique enfant prendre temps placer hauteur manipuler écouter danser chanter ensemble découvrir partir début saison petit vers musique grand émotion séance âge mixte mois moi an réservation obligatoire limiter paf prix libre infos réservation atelier ce premier partie lieu mercredi où quand pointculture\n",
      "['atelier']\n",
      "(('__label__atelier',), array([0.99581122]))\n",
      "adolescent prix réservation indispensable infos réservation contact\n",
      "['autre']\n",
      "(('__label__autre',), array([0.97839469]))\n",
      "trio schubert formé violoniste philippe koch violoncelliste luc dewez pianiste luc devos trio grumiaux porte nom célèbre violoniste belge arthur grumiaux plus vingt an trio belge exceptionnel produire monde entier avoir enregistrer nombreux disque dont intégral œuvre lekeu avoir couronner diapason or choc musiquer midzik trio grumiaux jouer deux œuvre écrire schubert dont deuxième trio utiliser stanley kubrick célèbre film barry lindon programmer franz schubert trio mi bémol majeur piano corde no op op posthume distribution philippe koch violon luc dewez violoncelle luc devos piano\n",
      "['concert']\n",
      "((), array([], dtype=float64))\n"
     ]
    }
   ],
   "source": [
    "i=0\n",
    "for repeat in range(10):\n",
    "    i += 1 \n",
    "    while msk[i]:\n",
    "        i = i+1\n",
    "    print(dataset.iloc[i, 0])\n",
    "    print(dataset.iloc[i, 1])\n",
    "    print(model.predict(dataset.iloc[i, 0], k=-1, threshold=0.5))"
   ]
  },
  {
   "cell_type": "markdown",
   "id": "positive-interstate",
   "metadata": {},
   "source": [
    "# Test Model on test set"
   ]
  },
  {
   "cell_type": "code",
   "execution_count": 9,
   "id": "applicable-turkey",
   "metadata": {},
   "outputs": [
    {
     "name": "stdout",
     "output_type": "stream",
     "text": [
      "(192, 0.8225806451612904, 0.36298932384341637)\n"
     ]
    }
   ],
   "source": [
    "print(model.test('test.txt', k=-1, threshold=0.5))"
   ]
  },
  {
   "cell_type": "code",
   "execution_count": null,
   "id": "organized-cassette",
   "metadata": {},
   "outputs": [],
   "source": []
  }
 ],
 "metadata": {
  "kernelspec": {
   "display_name": "Python 3",
   "language": "python",
   "name": "python3"
  },
  "language_info": {
   "codemirror_mode": {
    "name": "ipython",
    "version": 3
   },
   "file_extension": ".py",
   "mimetype": "text/x-python",
   "name": "python",
   "nbconvert_exporter": "python",
   "pygments_lexer": "ipython3",
   "version": "3.8.7"
  }
 },
 "nbformat": 4,
 "nbformat_minor": 5
}
