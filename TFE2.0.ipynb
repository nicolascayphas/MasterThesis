{
 "cells": [
  {
   "cell_type": "markdown",
   "metadata": {},
   "source": [
    "# Importing all of the required Packages"
   ]
  },
  {
   "cell_type": "code",
   "execution_count": 4,
   "metadata": {},
   "outputs": [],
   "source": [
    "import pandas as pd       #transforming json into panda dataframe\n",
    "#from googletrans import Translator          #google translate from french to english if needed\n",
    "import numpy as np                          #for thejaccard similarity\n",
    "from sklearn.feature_extraction.text import TfidfVectorizer      #extrating features from text\n",
    "from sklearn.preprocessing import MultiLabelBinarizer            #turn labels into binary\n",
    "from sklearn.model_selection import train_test_split             #splitting the data to get better results\n",
    "\n",
    "from sklearn.linear_model import SGDClassifier                  #Classifier models/kernels\n",
    "from sklearn.linear_model import LogisticRegression \n",
    "from sklearn.svm import LinearSVC\n",
    "from sklearn.linear_model import Perceptron\n",
    "from sklearn.linear_model import PassiveAggressiveClassifier\n",
    "from sklearn.ensemble import GradientBoostingClassifier\n",
    "from sklearn.gaussian_process import GaussianProcessClassifier\n",
    " \n",
    "from sklearn.multiclass import OneVsRestClassifier\n",
    "\n",
    "import nltk #import the natural language toolkit library\n",
    "from nltk.stem.snowball import FrenchStemmer #import the French stemming library\n",
    "from nltk.corpus import stopwords #import stopwords from nltk corpus\n",
    "#import re #import the regular expressions library; will be used to strip punctuation\n",
    "from collections import Counter #allows for counting the number of occurences in a list\n",
    "\n",
    "from sklearn.multiclass import OneVsOneClassifier\n",
    "from nltk import sent_tokenize #split data into multiple sentences\n",
    "from nltk.tokenize import word_tokenize #tokenize the words\n",
    "from nltk.corpus import stopwords  #remove stopwords\n",
    "from nltk.stem.snowball import FrenchStemmer   #not a very accurate stemmer, for testing"
   ]
  },
  {
   "cell_type": "markdown",
   "metadata": {},
   "source": [
    "# Installing the French Package for SpaCy"
   ]
  },
  {
   "cell_type": "code",
   "execution_count": 2,
   "metadata": {},
   "outputs": [],
   "source": [
    "#!pip install --user https://github.com/explosion/spacy-models/releases/download/fr_core_news_sm-2.0.0/fr_core_news_sm-2.0.0.tar.gz#egg=fr_core_news_sm==2.0.0\n",
    "#!python -m pip install --upgrade pip\n",
    "#!pip install -U spacy\n",
    "#!python -m spacy download fr_core_news_sm"
   ]
  },
  {
   "cell_type": "code",
   "execution_count": 5,
   "metadata": {},
   "outputs": [],
   "source": [
    "import spacy as sp   #spacy for frenchs\n",
    "import fr_core_news_sm as fr"
   ]
  },
  {
   "cell_type": "markdown",
   "metadata": {},
   "source": [
    "# Getting the Json data"
   ]
  },
  {
   "cell_type": "code",
   "execution_count": 6,
   "metadata": {},
   "outputs": [],
   "source": [
    "a = pd.read_json(r'C:\\Users\\nicol\\Documents\\travail\\tfe\\Thesis-main\\dataset.json',encoding='utf-8')"
   ]
  },
  {
   "cell_type": "code",
   "execution_count": 7,
   "metadata": {},
   "outputs": [],
   "source": [
    "nlp_fr = sp.load('fr_core_news_sm')"
   ]
  },
  {
   "cell_type": "code",
   "execution_count": 8,
   "metadata": {
    "scrolled": false
   },
   "outputs": [
    {
     "data": {
      "text/html": [
       "<div>\n",
       "<style scoped>\n",
       "    .dataframe tbody tr th:only-of-type {\n",
       "        vertical-align: middle;\n",
       "    }\n",
       "\n",
       "    .dataframe tbody tr th {\n",
       "        vertical-align: top;\n",
       "    }\n",
       "\n",
       "    .dataframe thead th {\n",
       "        text-align: right;\n",
       "    }\n",
       "</style>\n",
       "<table border=\"1\" class=\"dataframe\">\n",
       "  <thead>\n",
       "    <tr style=\"text-align: right;\">\n",
       "      <th></th>\n",
       "      <th>_id</th>\n",
       "      <th>address</th>\n",
       "      <th>description</th>\n",
       "      <th>description_HTML</th>\n",
       "      <th>end</th>\n",
       "      <th>feedSource</th>\n",
       "      <th>header</th>\n",
       "      <th>imageUrl</th>\n",
       "      <th>labels</th>\n",
       "      <th>pageUrl</th>\n",
       "      <th>start</th>\n",
       "      <th>status</th>\n",
       "      <th>title</th>\n",
       "      <th>author</th>\n",
       "    </tr>\n",
       "  </thead>\n",
       "  <tbody>\n",
       "    <tr>\n",
       "      <th>0</th>\n",
       "      <td>aeXZbAyKlb</td>\n",
       "      <td>La Tchafouille, place de l'Eglise 2 - 1341 Cér...</td>\n",
       "      <td>Midi tambouille à la Tchafouille : Moussaka au...</td>\n",
       "      <td>&lt;div class='event' itemscope='' itemtype='http...</td>\n",
       "      <td>2020-03-03T22:59:59.000Z</td>\n",
       "      <td>4BKM94AFhM</td>\n",
       "      <td>Actions citoyennes et solidaires</td>\n",
       "      <td>http://agenda.olln.be/midi-tambouille-a-la-tch...</td>\n",
       "      <td>[autre]</td>\n",
       "      <td>http://agenda.olln.be/midi-tambouille-a-la-tch...</td>\n",
       "      <td>2020-03-03T11:00:00.000Z</td>\n",
       "      <td>ok</td>\n",
       "      <td>Midi tambouille à la Tchafouille</td>\n",
       "      <td>NaN</td>\n",
       "    </tr>\n",
       "    <tr>\n",
       "      <th>1</th>\n",
       "      <td>Ck5cdpTbxB</td>\n",
       "      <td>Studio 11</td>\n",
       "      <td>Projection du Kot Cinéforum du film 'Girl', de...</td>\n",
       "      <td>&lt;p&gt;Projection du Kot Cinéforum du film 'Girl',...</td>\n",
       "      <td>2020-02-13T21:45:00.000Z</td>\n",
       "      <td>CARPE</td>\n",
       "      <td>culture</td>\n",
       "      <td>http://louvainfo.be/media/events/Girl_2018_fil...</td>\n",
       "      <td>[etudiant, cinema]</td>\n",
       "      <td>https://louvainfo.be/calendrier/3658</td>\n",
       "      <td>2020-02-13T19:45:00.000Z</td>\n",
       "      <td>ok</td>\n",
       "      <td>Projection du film \"Girl\" par le Kot Cinéforum</td>\n",
       "      <td>Kot Cinéforum</td>\n",
       "    </tr>\n",
       "    <tr>\n",
       "      <th>2</th>\n",
       "      <td>SvtChXvw7L</td>\n",
       "      <td>Bibliothèque d’Ottignies  2 avenue des Combatt...</td>\n",
       "      <td>Venez vivre un moment doux et chaleureux avec ...</td>\n",
       "      <td>&lt;div class='event' itemscope='' itemtype='http...</td>\n",
       "      <td>2019-12-11T22:59:59.000Z</td>\n",
       "      <td>4BKM94AFhM</td>\n",
       "      <td>Littérature &amp; Contes</td>\n",
       "      <td>http://agenda.olln.be/heure-du-conte/@@images/...</td>\n",
       "      <td>[lecture]</td>\n",
       "      <td>http://agenda.olln.be/heure-du-conte</td>\n",
       "      <td>2019-12-11T14:00:00.000Z</td>\n",
       "      <td>ok</td>\n",
       "      <td>Heure du conte</td>\n",
       "      <td>NaN</td>\n",
       "    </tr>\n",
       "    <tr>\n",
       "      <th>3</th>\n",
       "      <td>VBFMh18itq</td>\n",
       "      <td>Point Culture, Place Galilée 9/9A, 1348 Ottign...</td>\n",
       "      <td>Trois jeunes Tunisiennes, ados de la révolutio...</td>\n",
       "      <td>&lt;div class='detail__text col col--full'&gt;&lt;div c...</td>\n",
       "      <td>2019-11-28T22:59:00.000Z</td>\n",
       "      <td>POINTCULTURE</td>\n",
       "      <td>cycle</td>\n",
       "      <td>https://static.pointculture.be/media/images/TB...</td>\n",
       "      <td>[cinema]</td>\n",
       "      <td>https://www.pointculture.be/agenda/evenements/...</td>\n",
       "      <td>2019-11-28T18:30:00.000Z</td>\n",
       "      <td>ok</td>\n",
       "      <td>Les Fleurs Du Bitume | Take back the night !</td>\n",
       "      <td>NaN</td>\n",
       "    </tr>\n",
       "    <tr>\n",
       "      <th>4</th>\n",
       "      <td>dBSJOXPqDq</td>\n",
       "      <td>Ateliers d'art de la Baraque  1, rue des Artis...</td>\n",
       "      <td>Collage  | mercredi 9h30-12h30 | 300€ \\r\\nUne ...</td>\n",
       "      <td>&lt;details&gt;&lt;p&gt;&lt;strong&gt;Collage&lt;/strong&gt; | mercred...</td>\n",
       "      <td>2019-09-30T21:59:00.000Z</td>\n",
       "      <td>4BKM94AFhM</td>\n",
       "      <td>Actions citoyennes et solidaires, Ateliers &amp; ...</td>\n",
       "      <td>http://agenda.olln.be/atelier-collage-danse-im...</td>\n",
       "      <td>[atelier, theatre]</td>\n",
       "      <td>http://agenda.olln.be/atelier-collage-danse-im...</td>\n",
       "      <td>2019-09-29T22:00:00.000Z</td>\n",
       "      <td>ok</td>\n",
       "      <td>Atelier - Collage, Danse, Image, Théâtre...</td>\n",
       "      <td>NaN</td>\n",
       "    </tr>\n",
       "    <tr>\n",
       "      <th>...</th>\n",
       "      <td>...</td>\n",
       "      <td>...</td>\n",
       "      <td>...</td>\n",
       "      <td>...</td>\n",
       "      <td>...</td>\n",
       "      <td>...</td>\n",
       "      <td>...</td>\n",
       "      <td>...</td>\n",
       "      <td>...</td>\n",
       "      <td>...</td>\n",
       "      <td>...</td>\n",
       "      <td>...</td>\n",
       "      <td>...</td>\n",
       "      <td>...</td>\n",
       "    </tr>\n",
       "    <tr>\n",
       "      <th>918</th>\n",
       "      <td>0pfjSAAdEf</td>\n",
       "      <td>Aula Magna, Place Raymond Lemaire 1, 1348 Otti...</td>\n",
       "      <td>Danse Irlandaise CELTIC LEGENDS. La danse irla...</td>\n",
       "      <td>&lt;div class='single-event--right col-lg-8'&gt;&lt;ul ...</td>\n",
       "      <td>2020-02-11T22:59:59.000Z</td>\n",
       "      <td>AULAMAGNA</td>\n",
       "      <td>Danse Irlandaise</td>\n",
       "      <td>https://library.utick.be/activities/323F2F78-5...</td>\n",
       "      <td>[spectacle-danse]</td>\n",
       "      <td>http://aulamagna.be/agenda-culturel/?article=3...</td>\n",
       "      <td>2020-02-11T19:00:00.000Z</td>\n",
       "      <td>NaN</td>\n",
       "      <td>CELTIC LEGENDS.</td>\n",
       "      <td>NaN</td>\n",
       "    </tr>\n",
       "    <tr>\n",
       "      <th>919</th>\n",
       "      <td>iy9wFqjr54</td>\n",
       "      <td>Forum des Halles, Office du Tourisme-Inforvill...</td>\n",
       "      <td>\\n\\n\\n \\n\\n\\n \\n\\n\\nLa peintre Nicole Delsaux ...</td>\n",
       "      <td>\\n\\n\\n \\n\\n\\n \\n\\n\\nLa peintre Nicole Delsaux ...</td>\n",
       "      <td>2019-09-15T22:00:00.000Z</td>\n",
       "      <td>INFORVILLE</td>\n",
       "      <td>exposition</td>\n",
       "      <td>http://www.tourisme-olln.be/imf/c/eyJtYXNrIjoi...</td>\n",
       "      <td>[exposition-peinture, exposition-sculture]</td>\n",
       "      <td>http://www.tourisme-olln.be/fr/la-couleur-et-l...</td>\n",
       "      <td>2019-08-30T22:00:00.000Z</td>\n",
       "      <td>NaN</td>\n",
       "      <td>La couleur et la pierre, une rencontre</td>\n",
       "      <td>NaN</td>\n",
       "    </tr>\n",
       "    <tr>\n",
       "      <th>920</th>\n",
       "      <td>cgEGsd3DH6</td>\n",
       "      <td>Studio 13 - 1348 Louvain-la-Neuve</td>\n",
       "      <td>Par Claude Martin (ancien ambassadeur de Franc...</td>\n",
       "      <td>&lt;div class='event' itemscope='' itemtype='http...</td>\n",
       "      <td>2019-12-09T22:59:59.000Z</td>\n",
       "      <td>4BKM94AFhM</td>\n",
       "      <td>Conférences &amp; Débats</td>\n",
       "      <td>http://agenda.olln.be/la-diplomatie-nest-pas-u...</td>\n",
       "      <td>[conference-politique]</td>\n",
       "      <td>http://agenda.olln.be/la-diplomatie-nest-pas-u...</td>\n",
       "      <td>2019-12-09T18:30:00.000Z</td>\n",
       "      <td></td>\n",
       "      <td>La diplomatie n'est pas un dîner de gala</td>\n",
       "      <td>NaN</td>\n",
       "    </tr>\n",
       "    <tr>\n",
       "      <th>921</th>\n",
       "      <td>wP4LHxGIKh</td>\n",
       "      <td>Ferme du Biéreau, place Polyvalente, avenue du...</td>\n",
       "      <td>Ninalisa     \\r09.10.2019\\r Entre théâtre et m...</td>\n",
       "      <td>&lt;div class=\"BodyMiddleContainer\"&gt;&lt;div class=\"T...</td>\n",
       "      <td>2019-10-09T21:59:59.000Z</td>\n",
       "      <td>INFORVILLE</td>\n",
       "      <td>concert spectacle théâtre</td>\n",
       "      <td>http://www.tourisme-olln.be/imf/c/eyJtYXNrIjoi...</td>\n",
       "      <td>[spectacle-autre, concert-jazz, concert-classi...</td>\n",
       "      <td>http://www.tourisme-olln.be/fr/ninalisa.html?c...</td>\n",
       "      <td>2019-10-08T22:00:00.000Z</td>\n",
       "      <td>NaN</td>\n",
       "      <td>Ninalisa</td>\n",
       "      <td>NaN</td>\n",
       "    </tr>\n",
       "    <tr>\n",
       "      <th>922</th>\n",
       "      <td>FLD5nNVFL6</td>\n",
       "      <td>Ferme du Biéreau, avenue du Jardin Botanique, ...</td>\n",
       "      <td>Tryo - COMPLET !     13.12.2019 En 2020, cela ...</td>\n",
       "      <td>&lt;div class='BodyMiddleContainer'&gt;&lt;div class='T...</td>\n",
       "      <td>2019-12-13T22:59:59.000Z</td>\n",
       "      <td>INFORVILLE</td>\n",
       "      <td></td>\n",
       "      <td>http://www.tourisme-olln.be/imf/c/eyJtYXNrIjoi...</td>\n",
       "      <td>[spectacle-autre, concert-musique francaise]</td>\n",
       "      <td>http://www.tourisme-olln.be/fr/tryo-complet.ht...</td>\n",
       "      <td>2019-12-12T23:00:00.000Z</td>\n",
       "      <td>NaN</td>\n",
       "      <td>Tryo - COMPLET !</td>\n",
       "      <td>NaN</td>\n",
       "    </tr>\n",
       "  </tbody>\n",
       "</table>\n",
       "<p>923 rows × 14 columns</p>\n",
       "</div>"
      ],
      "text/plain": [
       "            _id                                            address  \\\n",
       "0    aeXZbAyKlb  La Tchafouille, place de l'Eglise 2 - 1341 Cér...   \n",
       "1    Ck5cdpTbxB                                          Studio 11   \n",
       "2    SvtChXvw7L  Bibliothèque d’Ottignies  2 avenue des Combatt...   \n",
       "3    VBFMh18itq  Point Culture, Place Galilée 9/9A, 1348 Ottign...   \n",
       "4    dBSJOXPqDq  Ateliers d'art de la Baraque  1, rue des Artis...   \n",
       "..          ...                                                ...   \n",
       "918  0pfjSAAdEf  Aula Magna, Place Raymond Lemaire 1, 1348 Otti...   \n",
       "919  iy9wFqjr54  Forum des Halles, Office du Tourisme-Inforvill...   \n",
       "920  cgEGsd3DH6                  Studio 13 - 1348 Louvain-la-Neuve   \n",
       "921  wP4LHxGIKh  Ferme du Biéreau, place Polyvalente, avenue du...   \n",
       "922  FLD5nNVFL6  Ferme du Biéreau, avenue du Jardin Botanique, ...   \n",
       "\n",
       "                                           description  \\\n",
       "0    Midi tambouille à la Tchafouille : Moussaka au...   \n",
       "1    Projection du Kot Cinéforum du film 'Girl', de...   \n",
       "2    Venez vivre un moment doux et chaleureux avec ...   \n",
       "3    Trois jeunes Tunisiennes, ados de la révolutio...   \n",
       "4    Collage  | mercredi 9h30-12h30 | 300€ \\r\\nUne ...   \n",
       "..                                                 ...   \n",
       "918  Danse Irlandaise CELTIC LEGENDS. La danse irla...   \n",
       "919  \\n\\n\\n \\n\\n\\n \\n\\n\\nLa peintre Nicole Delsaux ...   \n",
       "920  Par Claude Martin (ancien ambassadeur de Franc...   \n",
       "921  Ninalisa     \\r09.10.2019\\r Entre théâtre et m...   \n",
       "922  Tryo - COMPLET !     13.12.2019 En 2020, cela ...   \n",
       "\n",
       "                                      description_HTML  \\\n",
       "0    <div class='event' itemscope='' itemtype='http...   \n",
       "1    <p>Projection du Kot Cinéforum du film 'Girl',...   \n",
       "2    <div class='event' itemscope='' itemtype='http...   \n",
       "3    <div class='detail__text col col--full'><div c...   \n",
       "4    <details><p><strong>Collage</strong> | mercred...   \n",
       "..                                                 ...   \n",
       "918  <div class='single-event--right col-lg-8'><ul ...   \n",
       "919  \\n\\n\\n \\n\\n\\n \\n\\n\\nLa peintre Nicole Delsaux ...   \n",
       "920  <div class='event' itemscope='' itemtype='http...   \n",
       "921  <div class=\"BodyMiddleContainer\"><div class=\"T...   \n",
       "922  <div class='BodyMiddleContainer'><div class='T...   \n",
       "\n",
       "                          end    feedSource  \\\n",
       "0    2020-03-03T22:59:59.000Z    4BKM94AFhM   \n",
       "1    2020-02-13T21:45:00.000Z         CARPE   \n",
       "2    2019-12-11T22:59:59.000Z    4BKM94AFhM   \n",
       "3    2019-11-28T22:59:00.000Z  POINTCULTURE   \n",
       "4    2019-09-30T21:59:00.000Z    4BKM94AFhM   \n",
       "..                        ...           ...   \n",
       "918  2020-02-11T22:59:59.000Z     AULAMAGNA   \n",
       "919  2019-09-15T22:00:00.000Z    INFORVILLE   \n",
       "920  2019-12-09T22:59:59.000Z    4BKM94AFhM   \n",
       "921  2019-10-09T21:59:59.000Z    INFORVILLE   \n",
       "922  2019-12-13T22:59:59.000Z    INFORVILLE   \n",
       "\n",
       "                                                header  \\\n",
       "0                     Actions citoyennes et solidaires   \n",
       "1                                              culture   \n",
       "2                                 Littérature & Contes   \n",
       "3                                                cycle   \n",
       "4     Actions citoyennes et solidaires, Ateliers & ...   \n",
       "..                                                 ...   \n",
       "918                                   Danse Irlandaise   \n",
       "919                                         exposition   \n",
       "920                               Conférences & Débats   \n",
       "921                          concert spectacle théâtre   \n",
       "922                                                      \n",
       "\n",
       "                                              imageUrl  \\\n",
       "0    http://agenda.olln.be/midi-tambouille-a-la-tch...   \n",
       "1    http://louvainfo.be/media/events/Girl_2018_fil...   \n",
       "2    http://agenda.olln.be/heure-du-conte/@@images/...   \n",
       "3    https://static.pointculture.be/media/images/TB...   \n",
       "4    http://agenda.olln.be/atelier-collage-danse-im...   \n",
       "..                                                 ...   \n",
       "918  https://library.utick.be/activities/323F2F78-5...   \n",
       "919  http://www.tourisme-olln.be/imf/c/eyJtYXNrIjoi...   \n",
       "920  http://agenda.olln.be/la-diplomatie-nest-pas-u...   \n",
       "921  http://www.tourisme-olln.be/imf/c/eyJtYXNrIjoi...   \n",
       "922  http://www.tourisme-olln.be/imf/c/eyJtYXNrIjoi...   \n",
       "\n",
       "                                                labels  \\\n",
       "0                                              [autre]   \n",
       "1                                   [etudiant, cinema]   \n",
       "2                                            [lecture]   \n",
       "3                                             [cinema]   \n",
       "4                                   [atelier, theatre]   \n",
       "..                                                 ...   \n",
       "918                                  [spectacle-danse]   \n",
       "919         [exposition-peinture, exposition-sculture]   \n",
       "920                             [conference-politique]   \n",
       "921  [spectacle-autre, concert-jazz, concert-classi...   \n",
       "922       [spectacle-autre, concert-musique francaise]   \n",
       "\n",
       "                                               pageUrl  \\\n",
       "0    http://agenda.olln.be/midi-tambouille-a-la-tch...   \n",
       "1                 https://louvainfo.be/calendrier/3658   \n",
       "2                 http://agenda.olln.be/heure-du-conte   \n",
       "3    https://www.pointculture.be/agenda/evenements/...   \n",
       "4    http://agenda.olln.be/atelier-collage-danse-im...   \n",
       "..                                                 ...   \n",
       "918  http://aulamagna.be/agenda-culturel/?article=3...   \n",
       "919  http://www.tourisme-olln.be/fr/la-couleur-et-l...   \n",
       "920  http://agenda.olln.be/la-diplomatie-nest-pas-u...   \n",
       "921  http://www.tourisme-olln.be/fr/ninalisa.html?c...   \n",
       "922  http://www.tourisme-olln.be/fr/tryo-complet.ht...   \n",
       "\n",
       "                        start status  \\\n",
       "0    2020-03-03T11:00:00.000Z     ok   \n",
       "1    2020-02-13T19:45:00.000Z     ok   \n",
       "2    2019-12-11T14:00:00.000Z     ok   \n",
       "3    2019-11-28T18:30:00.000Z     ok   \n",
       "4    2019-09-29T22:00:00.000Z     ok   \n",
       "..                        ...    ...   \n",
       "918  2020-02-11T19:00:00.000Z    NaN   \n",
       "919  2019-08-30T22:00:00.000Z    NaN   \n",
       "920  2019-12-09T18:30:00.000Z          \n",
       "921  2019-10-08T22:00:00.000Z    NaN   \n",
       "922  2019-12-12T23:00:00.000Z    NaN   \n",
       "\n",
       "                                              title         author  \n",
       "0                  Midi tambouille à la Tchafouille            NaN  \n",
       "1    Projection du film \"Girl\" par le Kot Cinéforum  Kot Cinéforum  \n",
       "2                                    Heure du conte            NaN  \n",
       "3      Les Fleurs Du Bitume | Take back the night !            NaN  \n",
       "4       Atelier - Collage, Danse, Image, Théâtre...            NaN  \n",
       "..                                              ...            ...  \n",
       "918                                 CELTIC LEGENDS.            NaN  \n",
       "919          La couleur et la pierre, une rencontre            NaN  \n",
       "920        La diplomatie n'est pas un dîner de gala            NaN  \n",
       "921                                        Ninalisa            NaN  \n",
       "922                                Tryo - COMPLET !            NaN  \n",
       "\n",
       "[923 rows x 14 columns]"
      ]
     },
     "execution_count": 8,
     "metadata": {},
     "output_type": "execute_result"
    }
   ],
   "source": [
    "a"
   ]
  },
  {
   "cell_type": "code",
   "execution_count": 9,
   "metadata": {},
   "outputs": [],
   "source": [
    "df = [a[\"description\"], a['header'],a['labels'], a['title']]  #specifing which columns to take into consideration when we do the classfication\n",
    "df = pd.concat(df, axis=1, keys=[\"description\", \"header\", \"labels\",\"title\"])"
   ]
  },
  {
   "cell_type": "code",
   "execution_count": 10,
   "metadata": {},
   "outputs": [
    {
     "data": {
      "text/html": [
       "<div>\n",
       "<style scoped>\n",
       "    .dataframe tbody tr th:only-of-type {\n",
       "        vertical-align: middle;\n",
       "    }\n",
       "\n",
       "    .dataframe tbody tr th {\n",
       "        vertical-align: top;\n",
       "    }\n",
       "\n",
       "    .dataframe thead th {\n",
       "        text-align: right;\n",
       "    }\n",
       "</style>\n",
       "<table border=\"1\" class=\"dataframe\">\n",
       "  <thead>\n",
       "    <tr style=\"text-align: right;\">\n",
       "      <th></th>\n",
       "      <th>description</th>\n",
       "      <th>header</th>\n",
       "      <th>labels</th>\n",
       "      <th>title</th>\n",
       "    </tr>\n",
       "  </thead>\n",
       "  <tbody>\n",
       "    <tr>\n",
       "      <th>0</th>\n",
       "      <td>Midi tambouille à la Tchafouille : Moussaka au...</td>\n",
       "      <td>Actions citoyennes et solidaires</td>\n",
       "      <td>[autre]</td>\n",
       "      <td>Midi tambouille à la Tchafouille</td>\n",
       "    </tr>\n",
       "    <tr>\n",
       "      <th>1</th>\n",
       "      <td>Projection du Kot Cinéforum du film 'Girl', de...</td>\n",
       "      <td>culture</td>\n",
       "      <td>[etudiant, cinema]</td>\n",
       "      <td>Projection du film \"Girl\" par le Kot Cinéforum</td>\n",
       "    </tr>\n",
       "    <tr>\n",
       "      <th>2</th>\n",
       "      <td>Venez vivre un moment doux et chaleureux avec ...</td>\n",
       "      <td>Littérature &amp; Contes</td>\n",
       "      <td>[lecture]</td>\n",
       "      <td>Heure du conte</td>\n",
       "    </tr>\n",
       "    <tr>\n",
       "      <th>3</th>\n",
       "      <td>Trois jeunes Tunisiennes, ados de la révolutio...</td>\n",
       "      <td>cycle</td>\n",
       "      <td>[cinema]</td>\n",
       "      <td>Les Fleurs Du Bitume | Take back the night !</td>\n",
       "    </tr>\n",
       "    <tr>\n",
       "      <th>4</th>\n",
       "      <td>Collage  | mercredi 9h30-12h30 | 300€ \\r\\nUne ...</td>\n",
       "      <td>Actions citoyennes et solidaires, Ateliers &amp; ...</td>\n",
       "      <td>[atelier, theatre]</td>\n",
       "      <td>Atelier - Collage, Danse, Image, Théâtre...</td>\n",
       "    </tr>\n",
       "    <tr>\n",
       "      <th>...</th>\n",
       "      <td>...</td>\n",
       "      <td>...</td>\n",
       "      <td>...</td>\n",
       "      <td>...</td>\n",
       "    </tr>\n",
       "    <tr>\n",
       "      <th>918</th>\n",
       "      <td>Danse Irlandaise CELTIC LEGENDS. La danse irla...</td>\n",
       "      <td>Danse Irlandaise</td>\n",
       "      <td>[spectacle-danse]</td>\n",
       "      <td>CELTIC LEGENDS.</td>\n",
       "    </tr>\n",
       "    <tr>\n",
       "      <th>919</th>\n",
       "      <td>\\n\\n\\n \\n\\n\\n \\n\\n\\nLa peintre Nicole Delsaux ...</td>\n",
       "      <td>exposition</td>\n",
       "      <td>[exposition-peinture, exposition-sculture]</td>\n",
       "      <td>La couleur et la pierre, une rencontre</td>\n",
       "    </tr>\n",
       "    <tr>\n",
       "      <th>920</th>\n",
       "      <td>Par Claude Martin (ancien ambassadeur de Franc...</td>\n",
       "      <td>Conférences &amp; Débats</td>\n",
       "      <td>[conference-politique]</td>\n",
       "      <td>La diplomatie n'est pas un dîner de gala</td>\n",
       "    </tr>\n",
       "    <tr>\n",
       "      <th>921</th>\n",
       "      <td>Ninalisa     \\r09.10.2019\\r Entre théâtre et m...</td>\n",
       "      <td>concert spectacle théâtre</td>\n",
       "      <td>[spectacle-autre, concert-jazz, concert-classi...</td>\n",
       "      <td>Ninalisa</td>\n",
       "    </tr>\n",
       "    <tr>\n",
       "      <th>922</th>\n",
       "      <td>Tryo - COMPLET !     13.12.2019 En 2020, cela ...</td>\n",
       "      <td></td>\n",
       "      <td>[spectacle-autre, concert-musique francaise]</td>\n",
       "      <td>Tryo - COMPLET !</td>\n",
       "    </tr>\n",
       "  </tbody>\n",
       "</table>\n",
       "<p>923 rows × 4 columns</p>\n",
       "</div>"
      ],
      "text/plain": [
       "                                           description  \\\n",
       "0    Midi tambouille à la Tchafouille : Moussaka au...   \n",
       "1    Projection du Kot Cinéforum du film 'Girl', de...   \n",
       "2    Venez vivre un moment doux et chaleureux avec ...   \n",
       "3    Trois jeunes Tunisiennes, ados de la révolutio...   \n",
       "4    Collage  | mercredi 9h30-12h30 | 300€ \\r\\nUne ...   \n",
       "..                                                 ...   \n",
       "918  Danse Irlandaise CELTIC LEGENDS. La danse irla...   \n",
       "919  \\n\\n\\n \\n\\n\\n \\n\\n\\nLa peintre Nicole Delsaux ...   \n",
       "920  Par Claude Martin (ancien ambassadeur de Franc...   \n",
       "921  Ninalisa     \\r09.10.2019\\r Entre théâtre et m...   \n",
       "922  Tryo - COMPLET !     13.12.2019 En 2020, cela ...   \n",
       "\n",
       "                                                header  \\\n",
       "0                     Actions citoyennes et solidaires   \n",
       "1                                              culture   \n",
       "2                                 Littérature & Contes   \n",
       "3                                                cycle   \n",
       "4     Actions citoyennes et solidaires, Ateliers & ...   \n",
       "..                                                 ...   \n",
       "918                                   Danse Irlandaise   \n",
       "919                                         exposition   \n",
       "920                               Conférences & Débats   \n",
       "921                          concert spectacle théâtre   \n",
       "922                                                      \n",
       "\n",
       "                                                labels  \\\n",
       "0                                              [autre]   \n",
       "1                                   [etudiant, cinema]   \n",
       "2                                            [lecture]   \n",
       "3                                             [cinema]   \n",
       "4                                   [atelier, theatre]   \n",
       "..                                                 ...   \n",
       "918                                  [spectacle-danse]   \n",
       "919         [exposition-peinture, exposition-sculture]   \n",
       "920                             [conference-politique]   \n",
       "921  [spectacle-autre, concert-jazz, concert-classi...   \n",
       "922       [spectacle-autre, concert-musique francaise]   \n",
       "\n",
       "                                              title  \n",
       "0                  Midi tambouille à la Tchafouille  \n",
       "1    Projection du film \"Girl\" par le Kot Cinéforum  \n",
       "2                                    Heure du conte  \n",
       "3      Les Fleurs Du Bitume | Take back the night !  \n",
       "4       Atelier - Collage, Danse, Image, Théâtre...  \n",
       "..                                              ...  \n",
       "918                                 CELTIC LEGENDS.  \n",
       "919          La couleur et la pierre, une rencontre  \n",
       "920        La diplomatie n'est pas un dîner de gala  \n",
       "921                                        Ninalisa  \n",
       "922                                Tryo - COMPLET !  \n",
       "\n",
       "[923 rows x 4 columns]"
      ]
     },
     "execution_count": 10,
     "metadata": {},
     "output_type": "execute_result"
    }
   ],
   "source": [
    "#type(df.labels[0])\n",
    "df"
   ]
  },
  {
   "cell_type": "code",
   "execution_count": 12,
   "metadata": {},
   "outputs": [
    {
     "name": "stdout",
     "output_type": "stream",
     "text": [
      "Midi tambouille à la Tchafouille : Moussaka au menu!  Prix : 2 euros. Inscriptions souhaitées. Venez préparer et manger ce délicieux plat grec en notre compagnie! Le rendez-vous est à midi. www.latchafouille.be\n"
     ]
    }
   ],
   "source": [
    "pp = a['description'][0]\n",
    "print(pp)"
   ]
  },
  {
   "cell_type": "code",
   "execution_count": 10,
   "metadata": {},
   "outputs": [],
   "source": [
    "#nltk.download('punkt')     #to use with nltk need to be downlaoded first for punctuation\n",
    "#nltk.download('stopwords')   #stopwords in english/french"
   ]
  },
  {
   "cell_type": "markdown",
   "metadata": {},
   "source": [
    "# Text Processing Using NLTK"
   ]
  },
  {
   "cell_type": "code",
   "execution_count": 71,
   "metadata": {},
   "outputs": [],
   "source": [
    "def preprocess_nltk(pp):\n",
    "    #print(\"in\")\n",
    "    sentences = sent_tokenize(pp)                          #split into sentences\n",
    "    tokens = word_tokenize(pp)                             #tokenize words\n",
    "    tokens = [w.lower() for w in tokens]                  #transforming into lower case\n",
    "    words = [word for word in tokens if word.isalpha()]    #removing puntuation\n",
    "    stop_words = stopwords.words('french')   #french stopwords\n",
    "    words = [w for w in words if not w in stop_words]        #removing stop words\n",
    "    stemmer = FrenchStemmer()\n",
    "    stemmed = [stemmer.stem(word) for word in words]   #not very accurate\n",
    "    #print(stemmed)\n",
    "    return stemmed"
   ]
  },
  {
   "cell_type": "code",
   "execution_count": 72,
   "metadata": {},
   "outputs": [],
   "source": [
    "# Python program to convert a list \n",
    "# to string using join() function \n",
    "    \n",
    "# Function to convert   \n",
    "def listToString(s):  \n",
    "    \n",
    "    # initialize an empty string \n",
    "    str1 = \" \" \n",
    "    \n",
    "    # return string   \n",
    "    return (str1.join(s)) \n",
    "  "
   ]
  },
  {
   "cell_type": "code",
   "execution_count": 73,
   "metadata": {},
   "outputs": [],
   "source": [
    "new_descr = []\n",
    "for descr in a['description'][:]:\n",
    "    new_descr.append(listToString(preprocess_nltk(descr)))\n",
    "df['new_descr'] = new_descr"
   ]
  },
  {
   "cell_type": "code",
   "execution_count": 74,
   "metadata": {},
   "outputs": [
    {
     "name": "stdout",
     "output_type": "stream",
     "text": [
      "0      mid tambouill tchafouill moussak menu prix eur...\n",
      "1      project kot cinéforum film luk dhondt film bel...\n",
      "2      ven vivr moment doux chaleur enfant racont his...\n",
      "3      trois jeun tunisien ados révolu jasmin emparen...\n",
      "4      collag mercred invit pos regard ludiqu décal i...\n",
      "                             ...                        \n",
      "918    dans irlandais celtic legend dans irlandais a ...\n",
      "919    peintr nicol delsal sculpteur albert contess f...\n",
      "920    claud martin ancien ambassadeur franc chin vi ...\n",
      "921    ninalis entre théâtr musiqu duettist chantent ...\n",
      "922    tryo complet cel fer an déjà group tryo occup ...\n",
      "Name: new_descr, Length: 923, dtype: object\n"
     ]
    }
   ],
   "source": [
    "print(df['new_descr'])"
   ]
  },
  {
   "cell_type": "code",
   "execution_count": 27,
   "metadata": {},
   "outputs": [
    {
     "name": "stdout",
     "output_type": "stream",
     "text": [
      "['mid', 'tambouill', 'tchafouill', 'moussak', 'menu', 'prix', 'euros', 'inscript', 'souhait', 'ven', 'prépar', 'mang', 'délici', 'plat', 'grec', 'compagn', 'mid']\n"
     ]
    }
   ],
   "source": [
    "print(preprocess_nltk(a['description'][0]))   #stemmed words using nltk"
   ]
  },
  {
   "cell_type": "markdown",
   "metadata": {},
   "source": [
    "\n",
    "# Text Processing Using SpaCy"
   ]
  },
  {
   "cell_type": "code",
   "execution_count": 16,
   "metadata": {
    "scrolled": true
   },
   "outputs": [
    {
     "ename": "NameError",
     "evalue": "name 'fr' is not defined",
     "output_type": "error",
     "traceback": [
      "\u001b[1;31m---------------------------------------------------------------------------\u001b[0m",
      "\u001b[1;31mNameError\u001b[0m                                 Traceback (most recent call last)",
      "\u001b[1;32m<ipython-input-16-2cc2580141ab>\u001b[0m in \u001b[0;36m<module>\u001b[1;34m\u001b[0m\n\u001b[1;32m----> 1\u001b[1;33m \u001b[0mintroduction_doc\u001b[0m \u001b[1;33m=\u001b[0m \u001b[0mfr\u001b[0m\u001b[1;33m(\u001b[0m\u001b[0mpp\u001b[0m\u001b[1;33m)\u001b[0m \u001b[1;31m#not working\u001b[0m\u001b[1;33m\u001b[0m\u001b[1;33m\u001b[0m\u001b[0m\n\u001b[0m",
      "\u001b[1;31mNameError\u001b[0m: name 'fr' is not defined"
     ]
    }
   ],
   "source": [
    "introduction_doc = fr(pp) #not working"
   ]
  },
  {
   "cell_type": "markdown",
   "metadata": {},
   "source": [
    "# Text Processing Using TreeTagger"
   ]
  },
  {
   "cell_type": "code",
   "execution_count": 11,
   "metadata": {},
   "outputs": [
    {
     "name": "stderr",
     "output_type": "stream",
     "text": [
      "c:\\users\\nicol\\appdata\\local\\programs\\python\\python38\\lib\\site-packages\\treetaggerwrapper.py:739: FutureWarning: Possible nested set at position 8\n",
      "  punct2find_re = re.compile(\"([^ ])([[\" + ALONEMARKS + \"])\",\n",
      "c:\\users\\nicol\\appdata\\local\\programs\\python\\python38\\lib\\site-packages\\treetaggerwrapper.py:2043: FutureWarning: Possible nested set at position 152\n",
      "  DnsHostMatch_re = re.compile(\"(\" + DnsHost_expression + \")\",\n",
      "c:\\users\\nicol\\appdata\\local\\programs\\python\\python38\\lib\\site-packages\\treetaggerwrapper.py:2067: FutureWarning: Possible nested set at position 409\n",
      "  UrlMatch_re = re.compile(UrlMatch_expression, re.VERBOSE | re.IGNORECASE)\n",
      "c:\\users\\nicol\\appdata\\local\\programs\\python\\python38\\lib\\site-packages\\treetaggerwrapper.py:2079: FutureWarning: Possible nested set at position 192\n",
      "  EmailMatch_re = re.compile(EmailMatch_expression, re.VERBOSE | re.IGNORECASE)\n"
     ]
    },
    {
     "ename": "TreeTaggerError",
     "evalue": "Can't locate TreeTagger directory (and no TAGDIR specified).",
     "output_type": "error",
     "traceback": [
      "\u001b[1;31m---------------------------------------------------------------------------\u001b[0m",
      "\u001b[1;31mTreeTaggerError\u001b[0m                           Traceback (most recent call last)",
      "\u001b[1;32m<ipython-input-11-b84730bc7698>\u001b[0m in \u001b[0;36m<module>\u001b[1;34m\u001b[0m\n\u001b[0;32m     12\u001b[0m \u001b[0mwords\u001b[0m \u001b[1;33m=\u001b[0m \u001b[1;33m[\u001b[0m\u001b[0mw\u001b[0m \u001b[1;32mfor\u001b[0m \u001b[0mw\u001b[0m \u001b[1;32min\u001b[0m \u001b[0mwords\u001b[0m \u001b[1;32mif\u001b[0m \u001b[1;32mnot\u001b[0m \u001b[0mw\u001b[0m \u001b[1;32min\u001b[0m \u001b[0mstop_words\u001b[0m\u001b[1;33m]\u001b[0m        \u001b[1;31m#removing stop words\u001b[0m\u001b[1;33m\u001b[0m\u001b[1;33m\u001b[0m\u001b[0m\n\u001b[0;32m     13\u001b[0m \u001b[1;31m#1) build a TreeTagger wrapper:\u001b[0m\u001b[1;33m\u001b[0m\u001b[1;33m\u001b[0m\u001b[1;33m\u001b[0m\u001b[0m\n\u001b[1;32m---> 14\u001b[1;33m \u001b[0mtagger\u001b[0m \u001b[1;33m=\u001b[0m \u001b[0mtreetaggerwrapper\u001b[0m\u001b[1;33m.\u001b[0m\u001b[0mTreeTagger\u001b[0m\u001b[1;33m(\u001b[0m\u001b[0mTAGLANG\u001b[0m\u001b[1;33m=\u001b[0m\u001b[1;34m'fr'\u001b[0m\u001b[1;33m)\u001b[0m\u001b[1;33m\u001b[0m\u001b[1;33m\u001b[0m\u001b[0m\n\u001b[0m\u001b[0;32m     15\u001b[0m \u001b[1;31m#2) tag your text.\u001b[0m\u001b[1;33m\u001b[0m\u001b[1;33m\u001b[0m\u001b[1;33m\u001b[0m\u001b[0m\n\u001b[0;32m     16\u001b[0m \u001b[0mtags\u001b[0m \u001b[1;33m=\u001b[0m \u001b[0mtagger\u001b[0m\u001b[1;33m.\u001b[0m\u001b[0mtag_text\u001b[0m\u001b[1;33m(\u001b[0m\u001b[0mwords\u001b[0m\u001b[1;33m)\u001b[0m\u001b[1;33m\u001b[0m\u001b[1;33m\u001b[0m\u001b[0m\n",
      "\u001b[1;32mc:\\users\\nicol\\appdata\\local\\programs\\python\\python38\\lib\\site-packages\\treetaggerwrapper.py\u001b[0m in \u001b[0;36m__init__\u001b[1;34m(self, **kargs)\u001b[0m\n\u001b[0;32m   1004\u001b[0m         \u001b[0mlogger\u001b[0m\u001b[1;33m.\u001b[0m\u001b[0mdebug\u001b[0m\u001b[1;33m(\u001b[0m\u001b[1;34m\"Using treetaggerwrapper.py from %s\"\u001b[0m\u001b[1;33m,\u001b[0m \u001b[0mosp\u001b[0m\u001b[1;33m.\u001b[0m\u001b[0mabspath\u001b[0m\u001b[1;33m(\u001b[0m\u001b[0m__file__\u001b[0m\u001b[1;33m)\u001b[0m\u001b[1;33m)\u001b[0m\u001b[1;33m\u001b[0m\u001b[1;33m\u001b[0m\u001b[0m\n\u001b[0;32m   1005\u001b[0m         \u001b[0mself\u001b[0m\u001b[1;33m.\u001b[0m\u001b[0m_set_language\u001b[0m\u001b[1;33m(\u001b[0m\u001b[0mkargs\u001b[0m\u001b[1;33m)\u001b[0m\u001b[1;33m\u001b[0m\u001b[1;33m\u001b[0m\u001b[0m\n\u001b[1;32m-> 1006\u001b[1;33m         \u001b[0mself\u001b[0m\u001b[1;33m.\u001b[0m\u001b[0m_set_tagger\u001b[0m\u001b[1;33m(\u001b[0m\u001b[0mkargs\u001b[0m\u001b[1;33m)\u001b[0m\u001b[1;33m\u001b[0m\u001b[1;33m\u001b[0m\u001b[0m\n\u001b[0m\u001b[0;32m   1007\u001b[0m         \u001b[0mself\u001b[0m\u001b[1;33m.\u001b[0m\u001b[0m_set_preprocessor\u001b[0m\u001b[1;33m(\u001b[0m\u001b[0mkargs\u001b[0m\u001b[1;33m)\u001b[0m\u001b[1;33m\u001b[0m\u001b[1;33m\u001b[0m\u001b[0m\n\u001b[0;32m   1008\u001b[0m         \u001b[1;31m# Note: TreeTagger process is started later, when really needed.\u001b[0m\u001b[1;33m\u001b[0m\u001b[1;33m\u001b[0m\u001b[1;33m\u001b[0m\u001b[0m\n",
      "\u001b[1;32mc:\\users\\nicol\\appdata\\local\\programs\\python\\python38\\lib\\site-packages\\treetaggerwrapper.py\u001b[0m in \u001b[0;36m_set_tagger\u001b[1;34m(self, kargs)\u001b[0m\n\u001b[0;32m   1046\u001b[0m                 logger.error(\"Can't locate TreeTagger directory (and \"\n\u001b[0;32m   1047\u001b[0m                              \"no TAGDIR specified).\")\n\u001b[1;32m-> 1048\u001b[1;33m                 raise TreeTaggerError(\"Can't locate TreeTagger directory (and \"\n\u001b[0m\u001b[0;32m   1049\u001b[0m                                       \"no TAGDIR specified).\")\n\u001b[0;32m   1050\u001b[0m         \u001b[0mself\u001b[0m\u001b[1;33m.\u001b[0m\u001b[0mtagdir\u001b[0m \u001b[1;33m=\u001b[0m \u001b[0mos\u001b[0m\u001b[1;33m.\u001b[0m\u001b[0mpath\u001b[0m\u001b[1;33m.\u001b[0m\u001b[0mabspath\u001b[0m\u001b[1;33m(\u001b[0m\u001b[0mself\u001b[0m\u001b[1;33m.\u001b[0m\u001b[0mtagdir\u001b[0m\u001b[1;33m)\u001b[0m\u001b[1;33m\u001b[0m\u001b[1;33m\u001b[0m\u001b[0m\n",
      "\u001b[1;31mTreeTaggerError\u001b[0m: Can't locate TreeTagger directory (and no TAGDIR specified)."
     ]
    }
   ],
   "source": [
    "#!pip install -U treetaggerwrapper\n",
    "#import nltk\n",
    "#nltk.download()\n",
    "import pprint   # For proper print of sequences.\n",
    "import treetaggerwrapper\n",
    "#0)remove ponctuation\n",
    "sentences = sent_tokenize(pp)                          #split into sentences\n",
    "tokens = word_tokenize(pp)                             #tokenize words\n",
    "tokens = [w.lower() for w in tokens]                  #transforming into lower case\n",
    "words = [word for word in tokens if word.isalpha()]    #removing puntuation\n",
    "stop_words = stopwords.words('french')   #french stopwords\n",
    "words = [w for w in words if not w in stop_words]        #removing stop words\n",
    "#1) build a TreeTagger wrapper:\n",
    "tagger = treetaggerwrapper.TreeTagger(TAGLANG='fr')\n",
    "#2) tag your text.\n",
    "tags = tagger.tag_text(words)\n",
    "tags2 = treetaggerwrapper.make_tags(tags)\n",
    "#3) use the tags list... (list of string output from TreeTagger).\n",
    "pprint.pprint(tags2)\n",
    "\n",
    "    \n",
    "def preprocess(pp):\n",
    "    #0)remove ponctuation\n",
    "    sentences = sent_tokenize(pp)                          #split into sentences\n",
    "    tokens = word_tokenize(pp)                             #tokenize words\n",
    "    tokens = [w.lower() for w in tokens]                  #transforming into lower case\n",
    "    words = [word for word in tokens if word.isalpha()]    #removing puntuation\n",
    "    stop_words = stopwords.words('french')   #french stopwords\n",
    "    words = [w for w in words if not w in stop_words]        #removing stop words\n",
    "    #1) build a TreeTagger wrapper:\n",
    "    tagger = treetaggerwrapper.TreeTagger(TAGLANG='fr')\n",
    "    #2) tag your text.\n",
    "    tags = tagger.tag_text(words)\n",
    "    tags2 = treetaggerwrapper.make_tags(tags)\n",
    "    #3) create new description.\n",
    "    new_descr = []\n",
    "    for word, tag, lemma in tags2:\n",
    "        new_descr.append(lemma)\n",
    "    return new_descr"
   ]
  },
  {
   "cell_type": "code",
   "execution_count": null,
   "metadata": {},
   "outputs": [],
   "source": [
    "alldescr = a[\"description\"]\n",
    "new_alldescr = []\n",
    "print(alldescr)\n",
    "count=0\n",
    "for descr in alldescr:\n",
    "    new_alldescr.append(preprocess(descr))\n",
    "    count += 1\n",
    "    print(count)\n",
    "    #if count > 100: break"
   ]
  },
  {
   "cell_type": "code",
   "execution_count": null,
   "metadata": {},
   "outputs": [],
   "source": [
    "c=new_alldescr\n",
    "new_alldescr = [' '.join(i) for i in c]\n",
    "new_alldescr"
   ]
  },
  {
   "cell_type": "code",
   "execution_count": null,
   "metadata": {},
   "outputs": [],
   "source": [
    "#import json\n",
    "#with open('dataset_preprocess.txt', 'w') as f:\n",
    "#    f.write(json.dumps(new_alldescr))"
   ]
  },
  {
   "cell_type": "code",
   "execution_count": 12,
   "metadata": {},
   "outputs": [
    {
     "ename": "NameError",
     "evalue": "name 'json' is not defined",
     "output_type": "error",
     "traceback": [
      "\u001b[1;31m---------------------------------------------------------------------------\u001b[0m",
      "\u001b[1;31mNameError\u001b[0m                                 Traceback (most recent call last)",
      "\u001b[1;32m<ipython-input-12-ec146149dd6a>\u001b[0m in \u001b[0;36m<module>\u001b[1;34m\u001b[0m\n\u001b[0;32m      1\u001b[0m \u001b[1;32mwith\u001b[0m \u001b[0mopen\u001b[0m\u001b[1;33m(\u001b[0m\u001b[1;34m'dataset_preprocess.txt'\u001b[0m\u001b[1;33m,\u001b[0m \u001b[1;34m'r'\u001b[0m\u001b[1;33m)\u001b[0m \u001b[1;32mas\u001b[0m \u001b[0mf\u001b[0m\u001b[1;33m:\u001b[0m\u001b[1;33m\u001b[0m\u001b[1;33m\u001b[0m\u001b[0m\n\u001b[1;32m----> 2\u001b[1;33m     \u001b[0mnew_alldescr\u001b[0m \u001b[1;33m=\u001b[0m \u001b[0mjson\u001b[0m\u001b[1;33m.\u001b[0m\u001b[0mloads\u001b[0m\u001b[1;33m(\u001b[0m\u001b[0mf\u001b[0m\u001b[1;33m.\u001b[0m\u001b[0mread\u001b[0m\u001b[1;33m(\u001b[0m\u001b[1;33m)\u001b[0m\u001b[1;33m)\u001b[0m\u001b[1;33m\u001b[0m\u001b[1;33m\u001b[0m\u001b[0m\n\u001b[0m\u001b[0;32m      3\u001b[0m \u001b[0mnew_alldescr\u001b[0m\u001b[1;33m\u001b[0m\u001b[1;33m\u001b[0m\u001b[0m\n",
      "\u001b[1;31mNameError\u001b[0m: name 'json' is not defined"
     ]
    }
   ],
   "source": [
    "with open('dataset_preprocess.txt', 'r') as f:\n",
    "    new_alldescr = json.loads(f.read())\n",
    "new_alldescr"
   ]
  },
  {
   "cell_type": "markdown",
   "metadata": {},
   "source": [
    "# Taking Only Principal Labels"
   ]
  },
  {
   "cell_type": "code",
   "execution_count": 37,
   "metadata": {
    "scrolled": true
   },
   "outputs": [
    {
     "name": "stdout",
     "output_type": "stream",
     "text": [
      "0                                                [autre]\n",
      "1                                     [etudiant, cinema]\n",
      "2                                              [lecture]\n",
      "3                                               [cinema]\n",
      "4                                     [atelier, theatre]\n",
      "                             ...                        \n",
      "918                                    [spectacle-danse]\n",
      "919           [exposition-peinture, exposition-sculture]\n",
      "920                               [conference-politique]\n",
      "921    [spectacle-autre, concert-jazz, concert-classi...\n",
      "922         [spectacle-autre, concert-musique francaise]\n",
      "Name: labels, Length: 923, dtype: object\n"
     ]
    }
   ],
   "source": [
    "print(df.labels)\n",
    "#labs = ['concert', 'conference', 'exposition', 'spectacle', 'sport'] #c'est seulement les labels qui ont des sous labels\n",
    "labs = ['atelier', 'autre', 'brocante', 'cinema', 'concert', 'conference',\n",
    "       'etudiant', 'exposition', 'fete', 'lecture', 'spectacle', 'sport',\n",
    "       'theatre']\n",
    "general_labs = []\n",
    "for tup in df.labels:\n",
    "    glabs = []\n",
    "    for word in tup:            \n",
    "        if word in labs:\n",
    "            glabs.append(word)\n",
    "        else :\n",
    "            for w in word.split(\"-\"):\n",
    "                if w in labs:\n",
    "                    glabs.append(w)\n",
    "                    \n",
    "    glabs = list(dict.fromkeys(glabs))\n",
    "    general_labs.append(glabs)\n",
    "\n",
    "df['general_labels'] = general_labs\n",
    "#print(df.general_labels)"
   ]
  },
  {
   "cell_type": "markdown",
   "metadata": {},
   "source": [
    "# Analyze of data"
   ]
  },
  {
   "cell_type": "code",
   "execution_count": 38,
   "metadata": {},
   "outputs": [
    {
     "name": "stdout",
     "output_type": "stream",
     "text": [
      "[109, 341, 3, 96, 155, 189, 134, 72, 54, 74, 172, 52, 84]\n"
     ]
    }
   ],
   "source": [
    "labs = ['atelier', 'autre', 'brocante', 'cinema', 'concert', 'conference',\n",
    "       'etudiant', 'exposition', 'fete', 'lecture', 'spectacle', 'sport',\n",
    "       'theatre']\n",
    "dict_lab = dict.fromkeys(labs, 0)\n",
    "for l in df['general_labels']:\n",
    "    for l1 in l:\n",
    "        dict_lab[l1] += 1\n",
    "#print(dict_lab)\n",
    "print(list(dict_lab.values()))"
   ]
  },
  {
   "cell_type": "code",
   "execution_count": 39,
   "metadata": {},
   "outputs": [
    {
     "name": "stderr",
     "output_type": "stream",
     "text": [
      "c:\\users\\nicol\\appdata\\local\\programs\\python\\python38\\lib\\site-packages\\seaborn\\_decorators.py:36: FutureWarning: Pass the following variables as keyword args: x, y. From version 0.12, the only valid positional argument will be `data`, and passing other arguments without an explicit keyword will result in an error or misinterpretation.\n",
      "  warnings.warn(\n"
     ]
    },
    {
     "data": {
      "text/plain": [
       "Text(0.5, 0, 'Name of Labels ')"
      ]
     },
     "execution_count": 39,
     "metadata": {},
     "output_type": "execute_result"
    },
    {
     "data": {
      "image/png": "[encoded data removed]",
      "text/plain": [
       "<Figure size 1080x576 with 1 Axes>"
      ]
     },
     "metadata": {},
     "output_type": "display_data"
    }
   ],
   "source": [
    "import os\n",
    "import csv\n",
    "import pandas as pd\n",
    "import numpy as np\n",
    "import matplotlib.pyplot as plt\n",
    "import seaborn as sns\n",
    "categories = list(dict_lab.keys())\n",
    "sns.set(font_scale = 1.2)\n",
    "plt.figure(figsize=(15,8))\n",
    "ax= sns.barplot(categories, list(dict_lab.values()))\n",
    "#plt.title(\"Unbalanced between labels\", fontsize=24)\n",
    "plt.ylabel('Number of times each label appear', fontsize=18)\n",
    "plt.xlabel('Name of Labels ', fontsize=18)\n"
   ]
  },
  {
   "cell_type": "code",
   "execution_count": 40,
   "metadata": {},
   "outputs": [
    {
     "name": "stdout",
     "output_type": "stream",
     "text": [
      "535\n"
     ]
    },
    {
     "name": "stderr",
     "output_type": "stream",
     "text": [
      "c:\\users\\nicol\\appdata\\local\\programs\\python\\python38\\lib\\site-packages\\seaborn\\_decorators.py:36: FutureWarning: Pass the following variables as keyword args: x, y. From version 0.12, the only valid positional argument will be `data`, and passing other arguments without an explicit keyword will result in an error or misinterpretation.\n",
      "  warnings.warn(\n"
     ]
    },
    {
     "data": {
      "image/png": "[encoded data removed]",
      "text/plain": [
       "<Figure size 1080x576 with 1 Axes>"
      ]
     },
     "metadata": {},
     "output_type": "display_data"
    }
   ],
   "source": [
    "dict_nbrlab = [0,0,0,0,0,0,0,0]\n",
    "for l in df['general_labels']:\n",
    "    dict_nbrlab[(len(l))] += 1\n",
    "\n",
    "\n",
    "sns.set(font_scale = 1.5)\n",
    "plt.figure(figsize=(15,8))\n",
    "ax= sns.barplot(list(range(1,8)), dict_nbrlab[1:8])\n",
    "#plt.title(\"Unbalanced between labels\", fontsize=24)\n",
    "plt.ylabel('Number of Events', fontsize=24)\n",
    "plt.xlabel('Number of Labels ', fontsize=24)\n",
    "print((dict_nbrlab[1]))"
   ]
  },
  {
   "cell_type": "markdown",
   "metadata": {},
   "source": [
    "# Creating Model"
   ]
  },
  {
   "cell_type": "code",
   "execution_count": 41,
   "metadata": {},
   "outputs": [],
   "source": [
    "multilabel = MultiLabelBinarizer()"
   ]
  },
  {
   "cell_type": "code",
   "execution_count": 42,
   "metadata": {},
   "outputs": [],
   "source": [
    "y = multilabel.fit_transform(df['general_labels'])"
   ]
  },
  {
   "cell_type": "code",
   "execution_count": 43,
   "metadata": {},
   "outputs": [
    {
     "data": {
      "text/plain": [
       "array([[0, 1, 0, ..., 0, 0, 0],\n",
       "       [0, 0, 0, ..., 0, 0, 0],\n",
       "       [0, 0, 0, ..., 0, 0, 0],\n",
       "       ...,\n",
       "       [0, 0, 0, ..., 0, 0, 0],\n",
       "       [0, 1, 0, ..., 1, 0, 1],\n",
       "       [0, 1, 0, ..., 1, 0, 0]])"
      ]
     },
     "execution_count": 43,
     "metadata": {},
     "output_type": "execute_result"
    }
   ],
   "source": [
    "y"
   ]
  },
  {
   "cell_type": "code",
   "execution_count": 44,
   "metadata": {},
   "outputs": [
    {
     "data": {
      "text/plain": [
       "array(['atelier', 'autre', 'brocante', 'cinema', 'concert', 'conference',\n",
       "       'etudiant', 'exposition', 'fete', 'lecture', 'spectacle', 'sport',\n",
       "       'theatre'], dtype=object)"
      ]
     },
     "execution_count": 44,
     "metadata": {},
     "output_type": "execute_result"
    }
   ],
   "source": [
    "multilabel.classes_"
   ]
  },
  {
   "cell_type": "code",
   "execution_count": 45,
   "metadata": {},
   "outputs": [
    {
     "data": {
      "text/html": [
       "<div>\n",
       "<style scoped>\n",
       "    .dataframe tbody tr th:only-of-type {\n",
       "        vertical-align: middle;\n",
       "    }\n",
       "\n",
       "    .dataframe tbody tr th {\n",
       "        vertical-align: top;\n",
       "    }\n",
       "\n",
       "    .dataframe thead th {\n",
       "        text-align: right;\n",
       "    }\n",
       "</style>\n",
       "<table border=\"1\" class=\"dataframe\">\n",
       "  <thead>\n",
       "    <tr style=\"text-align: right;\">\n",
       "      <th></th>\n",
       "      <th>atelier</th>\n",
       "      <th>autre</th>\n",
       "      <th>brocante</th>\n",
       "      <th>cinema</th>\n",
       "      <th>concert</th>\n",
       "      <th>conference</th>\n",
       "      <th>etudiant</th>\n",
       "      <th>exposition</th>\n",
       "      <th>fete</th>\n",
       "      <th>lecture</th>\n",
       "      <th>spectacle</th>\n",
       "      <th>sport</th>\n",
       "      <th>theatre</th>\n",
       "    </tr>\n",
       "  </thead>\n",
       "  <tbody>\n",
       "    <tr>\n",
       "      <th>0</th>\n",
       "      <td>0</td>\n",
       "      <td>1</td>\n",
       "      <td>0</td>\n",
       "      <td>0</td>\n",
       "      <td>0</td>\n",
       "      <td>0</td>\n",
       "      <td>0</td>\n",
       "      <td>0</td>\n",
       "      <td>0</td>\n",
       "      <td>0</td>\n",
       "      <td>0</td>\n",
       "      <td>0</td>\n",
       "      <td>0</td>\n",
       "    </tr>\n",
       "    <tr>\n",
       "      <th>1</th>\n",
       "      <td>0</td>\n",
       "      <td>0</td>\n",
       "      <td>0</td>\n",
       "      <td>1</td>\n",
       "      <td>0</td>\n",
       "      <td>0</td>\n",
       "      <td>1</td>\n",
       "      <td>0</td>\n",
       "      <td>0</td>\n",
       "      <td>0</td>\n",
       "      <td>0</td>\n",
       "      <td>0</td>\n",
       "      <td>0</td>\n",
       "    </tr>\n",
       "    <tr>\n",
       "      <th>2</th>\n",
       "      <td>0</td>\n",
       "      <td>0</td>\n",
       "      <td>0</td>\n",
       "      <td>0</td>\n",
       "      <td>0</td>\n",
       "      <td>0</td>\n",
       "      <td>0</td>\n",
       "      <td>0</td>\n",
       "      <td>0</td>\n",
       "      <td>1</td>\n",
       "      <td>0</td>\n",
       "      <td>0</td>\n",
       "      <td>0</td>\n",
       "    </tr>\n",
       "    <tr>\n",
       "      <th>3</th>\n",
       "      <td>0</td>\n",
       "      <td>0</td>\n",
       "      <td>0</td>\n",
       "      <td>1</td>\n",
       "      <td>0</td>\n",
       "      <td>0</td>\n",
       "      <td>0</td>\n",
       "      <td>0</td>\n",
       "      <td>0</td>\n",
       "      <td>0</td>\n",
       "      <td>0</td>\n",
       "      <td>0</td>\n",
       "      <td>0</td>\n",
       "    </tr>\n",
       "    <tr>\n",
       "      <th>4</th>\n",
       "      <td>1</td>\n",
       "      <td>0</td>\n",
       "      <td>0</td>\n",
       "      <td>0</td>\n",
       "      <td>0</td>\n",
       "      <td>0</td>\n",
       "      <td>0</td>\n",
       "      <td>0</td>\n",
       "      <td>0</td>\n",
       "      <td>0</td>\n",
       "      <td>0</td>\n",
       "      <td>0</td>\n",
       "      <td>1</td>\n",
       "    </tr>\n",
       "    <tr>\n",
       "      <th>...</th>\n",
       "      <td>...</td>\n",
       "      <td>...</td>\n",
       "      <td>...</td>\n",
       "      <td>...</td>\n",
       "      <td>...</td>\n",
       "      <td>...</td>\n",
       "      <td>...</td>\n",
       "      <td>...</td>\n",
       "      <td>...</td>\n",
       "      <td>...</td>\n",
       "      <td>...</td>\n",
       "      <td>...</td>\n",
       "      <td>...</td>\n",
       "    </tr>\n",
       "    <tr>\n",
       "      <th>918</th>\n",
       "      <td>0</td>\n",
       "      <td>0</td>\n",
       "      <td>0</td>\n",
       "      <td>0</td>\n",
       "      <td>0</td>\n",
       "      <td>0</td>\n",
       "      <td>0</td>\n",
       "      <td>0</td>\n",
       "      <td>0</td>\n",
       "      <td>0</td>\n",
       "      <td>1</td>\n",
       "      <td>0</td>\n",
       "      <td>0</td>\n",
       "    </tr>\n",
       "    <tr>\n",
       "      <th>919</th>\n",
       "      <td>0</td>\n",
       "      <td>0</td>\n",
       "      <td>0</td>\n",
       "      <td>0</td>\n",
       "      <td>0</td>\n",
       "      <td>0</td>\n",
       "      <td>0</td>\n",
       "      <td>1</td>\n",
       "      <td>0</td>\n",
       "      <td>0</td>\n",
       "      <td>0</td>\n",
       "      <td>0</td>\n",
       "      <td>0</td>\n",
       "    </tr>\n",
       "    <tr>\n",
       "      <th>920</th>\n",
       "      <td>0</td>\n",
       "      <td>0</td>\n",
       "      <td>0</td>\n",
       "      <td>0</td>\n",
       "      <td>0</td>\n",
       "      <td>1</td>\n",
       "      <td>0</td>\n",
       "      <td>0</td>\n",
       "      <td>0</td>\n",
       "      <td>0</td>\n",
       "      <td>0</td>\n",
       "      <td>0</td>\n",
       "      <td>0</td>\n",
       "    </tr>\n",
       "    <tr>\n",
       "      <th>921</th>\n",
       "      <td>0</td>\n",
       "      <td>1</td>\n",
       "      <td>0</td>\n",
       "      <td>0</td>\n",
       "      <td>1</td>\n",
       "      <td>0</td>\n",
       "      <td>0</td>\n",
       "      <td>0</td>\n",
       "      <td>0</td>\n",
       "      <td>0</td>\n",
       "      <td>1</td>\n",
       "      <td>0</td>\n",
       "      <td>1</td>\n",
       "    </tr>\n",
       "    <tr>\n",
       "      <th>922</th>\n",
       "      <td>0</td>\n",
       "      <td>1</td>\n",
       "      <td>0</td>\n",
       "      <td>0</td>\n",
       "      <td>1</td>\n",
       "      <td>0</td>\n",
       "      <td>0</td>\n",
       "      <td>0</td>\n",
       "      <td>0</td>\n",
       "      <td>0</td>\n",
       "      <td>1</td>\n",
       "      <td>0</td>\n",
       "      <td>0</td>\n",
       "    </tr>\n",
       "  </tbody>\n",
       "</table>\n",
       "<p>923 rows × 13 columns</p>\n",
       "</div>"
      ],
      "text/plain": [
       "     atelier  autre  brocante  cinema  concert  conference  etudiant  \\\n",
       "0          0      1         0       0        0           0         0   \n",
       "1          0      0         0       1        0           0         1   \n",
       "2          0      0         0       0        0           0         0   \n",
       "3          0      0         0       1        0           0         0   \n",
       "4          1      0         0       0        0           0         0   \n",
       "..       ...    ...       ...     ...      ...         ...       ...   \n",
       "918        0      0         0       0        0           0         0   \n",
       "919        0      0         0       0        0           0         0   \n",
       "920        0      0         0       0        0           1         0   \n",
       "921        0      1         0       0        1           0         0   \n",
       "922        0      1         0       0        1           0         0   \n",
       "\n",
       "     exposition  fete  lecture  spectacle  sport  theatre  \n",
       "0             0     0        0          0      0        0  \n",
       "1             0     0        0          0      0        0  \n",
       "2             0     0        1          0      0        0  \n",
       "3             0     0        0          0      0        0  \n",
       "4             0     0        0          0      0        1  \n",
       "..          ...   ...      ...        ...    ...      ...  \n",
       "918           0     0        0          1      0        0  \n",
       "919           1     0        0          0      0        0  \n",
       "920           0     0        0          0      0        0  \n",
       "921           0     0        0          1      0        1  \n",
       "922           0     0        0          1      0        0  \n",
       "\n",
       "[923 rows x 13 columns]"
      ]
     },
     "execution_count": 45,
     "metadata": {},
     "output_type": "execute_result"
    }
   ],
   "source": [
    "pd.DataFrame(y,columns=multilabel.classes_)"
   ]
  },
  {
   "cell_type": "code",
   "execution_count": 46,
   "metadata": {},
   "outputs": [],
   "source": [
    "tfidf = TfidfVectorizer(analyzer='word', max_features = 5000, ngram_range=(1,2))"
   ]
  },
  {
   "cell_type": "code",
   "execution_count": 64,
   "metadata": {},
   "outputs": [
    {
     "ename": "AttributeError",
     "evalue": "'list' object has no attribute 'type'",
     "output_type": "error",
     "traceback": [
      "\u001b[1;31m---------------------------------------------------------------------------\u001b[0m",
      "\u001b[1;31mAttributeError\u001b[0m                            Traceback (most recent call last)",
      "\u001b[1;32m<ipython-input-64-0fbd93b4e25c>\u001b[0m in \u001b[0;36m<module>\u001b[1;34m\u001b[0m\n\u001b[0;32m      1\u001b[0m \u001b[1;33m(\u001b[0m\u001b[0mdf\u001b[0m\u001b[1;33m[\u001b[0m\u001b[1;34m'description'\u001b[0m\u001b[1;33m]\u001b[0m\u001b[1;33m[\u001b[0m\u001b[1;36m0\u001b[0m\u001b[1;33m]\u001b[0m\u001b[1;33m)\u001b[0m\u001b[1;33m\u001b[0m\u001b[1;33m\u001b[0m\u001b[0m\n\u001b[1;32m----> 2\u001b[1;33m \u001b[1;33m(\u001b[0m\u001b[0mdf\u001b[0m\u001b[1;33m[\u001b[0m\u001b[1;34m'new_descr'\u001b[0m\u001b[1;33m]\u001b[0m\u001b[1;33m[\u001b[0m\u001b[1;36m0\u001b[0m\u001b[1;33m]\u001b[0m\u001b[1;33m)\u001b[0m\u001b[1;33m.\u001b[0m\u001b[0mtype\u001b[0m\u001b[1;33m(\u001b[0m\u001b[1;33m)\u001b[0m\u001b[1;33m\u001b[0m\u001b[1;33m\u001b[0m\u001b[0m\n\u001b[0m",
      "\u001b[1;31mAttributeError\u001b[0m: 'list' object has no attribute 'type'"
     ]
    }
   ],
   "source": [
    "(df['description'][0])\n",
    "(df['new_descr'][0]).type()\n"
   ]
  },
  {
   "cell_type": "code",
   "execution_count": 89,
   "metadata": {},
   "outputs": [],
   "source": [
    "X = tfidf.fit_transform(df['description'])\n",
    "#X = tfidf.fit_transform(df['new_descr'])\n",
    "\n"
   ]
  },
  {
   "cell_type": "code",
   "execution_count": 90,
   "metadata": {},
   "outputs": [
    {
     "ename": "NameError",
     "evalue": "name 'new_alldescr' is not defined",
     "output_type": "error",
     "traceback": [
      "\u001b[1;31m---------------------------------------------------------------------------\u001b[0m",
      "\u001b[1;31mNameError\u001b[0m                                 Traceback (most recent call last)",
      "\u001b[1;32m<ipython-input-90-c934b2cfb223>\u001b[0m in \u001b[0;36m<module>\u001b[1;34m\u001b[0m\n\u001b[1;32m----> 1\u001b[1;33m \u001b[0mnew_alldescr\u001b[0m\u001b[1;33m\u001b[0m\u001b[1;33m\u001b[0m\u001b[0m\n\u001b[0m",
      "\u001b[1;31mNameError\u001b[0m: name 'new_alldescr' is not defined"
     ]
    }
   ],
   "source": [
    "new_alldescr"
   ]
  },
  {
   "cell_type": "code",
   "execution_count": 91,
   "metadata": {},
   "outputs": [
    {
     "data": {
      "text/plain": [
       "(923, 5000)"
      ]
     },
     "execution_count": 91,
     "metadata": {},
     "output_type": "execute_result"
    }
   ],
   "source": [
    "X.shape"
   ]
  },
  {
   "cell_type": "code",
   "execution_count": 92,
   "metadata": {},
   "outputs": [],
   "source": [
    "X_train, X_test, y_train, y_test = train_test_split(X,y,test_size=0.2, random_state = 0)"
   ]
  },
  {
   "cell_type": "code",
   "execution_count": null,
   "metadata": {},
   "outputs": [],
   "source": []
  },
  {
   "cell_type": "code",
   "execution_count": 93,
   "metadata": {},
   "outputs": [],
   "source": [
    "sgd = SGDClassifier()\n",
    "lr = LogisticRegression(solver = 'lbfgs')\n",
    "svc = LinearSVC()\n",
    "perceptron = Perceptron()\n",
    "pac = PassiveAggressiveClassifier()"
   ]
  },
  {
   "cell_type": "code",
   "execution_count": 94,
   "metadata": {},
   "outputs": [],
   "source": [
    "def j_score(y_true,y_pred):\n",
    "    jaccard = np.minimum(y_true,y_pred).sum(axis = 1)/np.maximum(y_true, y_pred).sum(axis=1)\n",
    "    return jaccard.mean()*100\n",
    "\n",
    "\n",
    "def print_score(y_pred, clf):\n",
    "    print(\"Clf: \", clf.__class__.__name__)\n",
    "    print(\"Jaccard score {}\".format(j_score(y_test, y_pred)))\n",
    "    print('----')"
   ]
  },
  {
   "cell_type": "code",
   "execution_count": 98,
   "metadata": {},
   "outputs": [
    {
     "name": "stdout",
     "output_type": "stream",
     "text": [
      "Clf:  SGDClassifier\n",
      "Jaccard score 66.42084942084942\n",
      "----\n",
      "0.05945945945945946\n",
      "Clf:  LogisticRegression\n",
      "Jaccard score 25.405405405405407\n",
      "----\n",
      "0.10395010395010396\n",
      "Clf:  LinearSVC\n",
      "Jaccard score 63.66795366795366\n",
      "----\n",
      "0.06070686070686071\n",
      "Clf:  Perceptron\n",
      "Jaccard score 68.15958815958815\n",
      "----\n",
      "0.06195426195426196\n",
      "Clf:  PassiveAggressiveClassifier\n",
      "Jaccard score 68.85328185328184\n",
      "----\n",
      "0.060291060291060294\n"
     ]
    }
   ],
   "source": [
    "from sklearn.metrics import hamming_loss\n",
    "for classifier in [sgd, lr, svc, perceptron, pac]:\n",
    "    clf = OneVsRestClassifier(classifier)\n",
    "    #clf = OneVsOneClassifier(classifier)    \n",
    "    clf.fit(X_train, y_train)\n",
    "    y_pred = clf.predict(X_test)\n",
    "    print_score(y_pred, classifier)\n",
    "    print(hamming_loss(y_test, y_pred))"
   ]
  },
  {
   "cell_type": "code",
   "execution_count": null,
   "metadata": {},
   "outputs": [],
   "source": []
  },
  {
   "cell_type": "code",
   "execution_count": null,
   "metadata": {},
   "outputs": [],
   "source": []
  },
  {
   "cell_type": "code",
   "execution_count": null,
   "metadata": {},
   "outputs": [],
   "source": []
  },
  {
   "cell_type": "code",
   "execution_count": null,
   "metadata": {},
   "outputs": [],
   "source": []
  }
 ],
 "metadata": {
  "kernelspec": {
   "display_name": "Python 3",
   "language": "python",
   "name": "python3"
  },
  "language_info": {
   "codemirror_mode": {
    "name": "ipython",
    "version": 3
   },
   "file_extension": ".py",
   "mimetype": "text/x-python",
   "name": "python",
   "nbconvert_exporter": "python",
   "pygments_lexer": "ipython3",
   "version": "3.8.7"
  }
 },
 "nbformat": 4,
 "nbformat_minor": 2
}
