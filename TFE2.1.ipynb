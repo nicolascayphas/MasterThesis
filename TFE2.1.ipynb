{
 "cells": [
  {
   "cell_type": "markdown",
   "metadata": {},
   "source": [
    "# Importing all of the required Packages"
   ]
  },
  {
   "cell_type": "code",
   "execution_count": 19,
   "metadata": {},
   "outputs": [],
   "source": [
    "import pandas as pd       #transforming json into panda dataframe\n",
    "#from googletrans import Translator          #google translate from french to english if needed\n",
    "import numpy as np                          #for thejaccard similarity\n",
    "from sklearn.feature_extraction.text import TfidfVectorizer      #extrating features from text\n",
    "from sklearn.preprocessing import MultiLabelBinarizer            #turn labels into binary\n",
    "from sklearn.model_selection import train_test_split             #splitting the data to get better results\n",
    "\n",
    "from sklearn.linear_model import SGDClassifier                  #Classifier models/kernels\n",
    "from sklearn.linear_model import LogisticRegression \n",
    "from sklearn.svm import LinearSVC\n",
    "from sklearn.linear_model import Perceptron\n",
    "from sklearn.linear_model import PassiveAggressiveClassifier\n",
    "from sklearn.ensemble import GradientBoostingClassifier\n",
    "from sklearn.gaussian_process import GaussianProcessClassifier\n",
    " \n",
    "from sklearn.multiclass import OneVsRestClassifier\n",
    "\n",
    "import nltk #import the natural language toolkit library\n",
    "from nltk.stem.snowball import FrenchStemmer #import the French stemming library\n",
    "from nltk.corpus import stopwords #import stopwords from nltk corpus\n",
    "#import re #import the regular expressions library; will be used to strip punctuation\n",
    "from collections import Counter #allows for counting the number of occurences in a list\n",
    "\n",
    "from sklearn.multiclass import OneVsOneClassifier\n",
    "from nltk import sent_tokenize #split data into multiple sentences\n",
    "from nltk.tokenize import word_tokenize #tokenize the words\n",
    "from nltk.corpus import stopwords  #remove stopwords\n",
    "from nltk.stem.snowball import FrenchStemmer   #not a very accurate stemmer, for testing"
   ]
  },
  {
   "cell_type": "markdown",
   "metadata": {},
   "source": [
    "# Installing the French Package for SpaCy"
   ]
  },
  {
   "cell_type": "code",
   "execution_count": 176,
   "metadata": {},
   "outputs": [
    {
     "name": "stdout",
     "output_type": "stream",
     "text": [
      "Collecting fr_core_news_sm==2.0.0\n",
      "  Downloading https://github.com/explosion/spacy-models/releases/download/fr_core_news_sm-2.0.0/fr_core_news_sm-2.0.0.tar.gz (39.8 MB)\n",
      "Requirement already satisfied: spacy>=2.0.0a19 in c:\\users\\nicol\\appdata\\local\\programs\\python\\python38\\lib\\site-packages (from fr_core_news_sm==2.0.0) (3.0.3)\n",
      "Requirement already satisfied: murmurhash<1.1.0,>=0.28.0 in c:\\users\\nicol\\appdata\\local\\programs\\python\\python38\\lib\\site-packages (from spacy>=2.0.0a19->fr_core_news_sm==2.0.0) (1.0.5)\n",
      "Requirement already satisfied: spacy-legacy<3.1.0,>=3.0.0 in c:\\users\\nicol\\appdata\\local\\programs\\python\\python38\\lib\\site-packages (from spacy>=2.0.0a19->fr_core_news_sm==2.0.0) (3.0.1)\n",
      "Requirement already satisfied: packaging>=20.0 in c:\\users\\nicol\\appdata\\local\\programs\\python\\python38\\lib\\site-packages (from spacy>=2.0.0a19->fr_core_news_sm==2.0.0) (20.9)\n",
      "Requirement already satisfied: requests<3.0.0,>=2.13.0 in c:\\users\\nicol\\appdata\\local\\programs\\python\\python38\\lib\\site-packages (from spacy>=2.0.0a19->fr_core_news_sm==2.0.0) (2.25.1)\n",
      "Requirement already satisfied: pydantic<1.8.0,>=1.7.1 in c:\\users\\nicol\\appdata\\local\\programs\\python\\python38\\lib\\site-packages (from spacy>=2.0.0a19->fr_core_news_sm==2.0.0) (1.7.3)\n",
      "Requirement already satisfied: wasabi<1.1.0,>=0.8.1 in c:\\users\\nicol\\appdata\\local\\programs\\python\\python38\\lib\\site-packages (from spacy>=2.0.0a19->fr_core_news_sm==2.0.0) (0.8.2)\n",
      "Requirement already satisfied: thinc<8.1.0,>=8.0.0 in c:\\users\\nicol\\appdata\\local\\programs\\python\\python38\\lib\\site-packages (from spacy>=2.0.0a19->fr_core_news_sm==2.0.0) (8.0.1)\n",
      "Requirement already satisfied: jinja2 in c:\\users\\nicol\\appdata\\local\\programs\\python\\python38\\lib\\site-packages (from spacy>=2.0.0a19->fr_core_news_sm==2.0.0) (2.11.3)\n",
      "Requirement already satisfied: preshed<3.1.0,>=3.0.2 in c:\\users\\nicol\\appdata\\local\\programs\\python\\python38\\lib\\site-packages (from spacy>=2.0.0a19->fr_core_news_sm==2.0.0) (3.0.5)\n",
      "Requirement already satisfied: srsly<3.0.0,>=2.4.0 in c:\\users\\nicol\\appdata\\local\\programs\\python\\python38\\lib\\site-packages (from spacy>=2.0.0a19->fr_core_news_sm==2.0.0) (2.4.0)\n",
      "Requirement already satisfied: catalogue<2.1.0,>=2.0.1 in c:\\users\\nicol\\appdata\\local\\programs\\python\\python38\\lib\\site-packages (from spacy>=2.0.0a19->fr_core_news_sm==2.0.0) (2.0.1)\n",
      "Requirement already satisfied: typer<0.4.0,>=0.3.0 in c:\\users\\nicol\\appdata\\local\\programs\\python\\python38\\lib\\site-packages (from spacy>=2.0.0a19->fr_core_news_sm==2.0.0) (0.3.2)\n",
      "Requirement already satisfied: numpy>=1.15.0 in c:\\users\\nicol\\appdata\\local\\programs\\python\\python38\\lib\\site-packages (from spacy>=2.0.0a19->fr_core_news_sm==2.0.0) (1.20.1)\n",
      "Requirement already satisfied: blis<0.8.0,>=0.4.0 in c:\\users\\nicol\\appdata\\local\\programs\\python\\python38\\lib\\site-packages (from spacy>=2.0.0a19->fr_core_news_sm==2.0.0) (0.7.4)\n",
      "Requirement already satisfied: setuptools in c:\\users\\nicol\\appdata\\local\\programs\\python\\python38\\lib\\site-packages (from spacy>=2.0.0a19->fr_core_news_sm==2.0.0) (49.2.1)\n",
      "Requirement already satisfied: pathy in c:\\users\\nicol\\appdata\\local\\programs\\python\\python38\\lib\\site-packages (from spacy>=2.0.0a19->fr_core_news_sm==2.0.0) (0.4.0)\n",
      "Requirement already satisfied: cymem<2.1.0,>=2.0.2 in c:\\users\\nicol\\appdata\\local\\programs\\python\\python38\\lib\\site-packages (from spacy>=2.0.0a19->fr_core_news_sm==2.0.0) (2.0.5)\n",
      "Requirement already satisfied: tqdm<5.0.0,>=4.38.0 in c:\\users\\nicol\\appdata\\local\\programs\\python\\python38\\lib\\site-packages (from spacy>=2.0.0a19->fr_core_news_sm==2.0.0) (4.57.0)\n",
      "Requirement already satisfied: pyparsing>=2.0.2 in c:\\users\\nicol\\appdata\\local\\programs\\python\\python38\\lib\\site-packages (from packaging>=20.0->spacy>=2.0.0a19->fr_core_news_sm==2.0.0) (2.4.7)\n",
      "Requirement already satisfied: certifi>=2017.4.17 in c:\\users\\nicol\\appdata\\local\\programs\\python\\python38\\lib\\site-packages (from requests<3.0.0,>=2.13.0->spacy>=2.0.0a19->fr_core_news_sm==2.0.0) (2020.12.5)\n",
      "Requirement already satisfied: urllib3<1.27,>=1.21.1 in c:\\users\\nicol\\appdata\\local\\programs\\python\\python38\\lib\\site-packages (from requests<3.0.0,>=2.13.0->spacy>=2.0.0a19->fr_core_news_sm==2.0.0) (1.26.3)\n",
      "Requirement already satisfied: chardet<5,>=3.0.2 in c:\\users\\nicol\\appdata\\local\\programs\\python\\python38\\lib\\site-packages (from requests<3.0.0,>=2.13.0->spacy>=2.0.0a19->fr_core_news_sm==2.0.0) (4.0.0)\n",
      "Requirement already satisfied: idna<3,>=2.5 in c:\\users\\nicol\\appdata\\local\\programs\\python\\python38\\lib\\site-packages (from requests<3.0.0,>=2.13.0->spacy>=2.0.0a19->fr_core_news_sm==2.0.0) (2.10)\n",
      "Requirement already satisfied: click<7.2.0,>=7.1.1 in c:\\users\\nicol\\appdata\\local\\programs\\python\\python38\\lib\\site-packages (from typer<0.4.0,>=0.3.0->spacy>=2.0.0a19->fr_core_news_sm==2.0.0) (7.1.2)\n",
      "Requirement already satisfied: MarkupSafe>=0.23 in c:\\users\\nicol\\appdata\\local\\programs\\python\\python38\\lib\\site-packages (from jinja2->spacy>=2.0.0a19->fr_core_news_sm==2.0.0) (1.1.1)\n",
      "Requirement already satisfied: smart-open<4.0.0,>=2.2.0 in c:\\users\\nicol\\appdata\\local\\programs\\python\\python38\\lib\\site-packages (from pathy->spacy>=2.0.0a19->fr_core_news_sm==2.0.0) (3.0.0)\n",
      "Using legacy 'setup.py install' for fr-core-news-sm, since package 'wheel' is not installed.\n",
      "Installing collected packages: fr-core-news-sm\n",
      "    Running setup.py install for fr-core-news-sm: started\n",
      "    Running setup.py install for fr-core-news-sm: finished with status 'done'\n",
      "Successfully installed fr-core-news-sm-2.0.0\n",
      "Requirement already satisfied: pip in c:\\users\\nicol\\appdata\\local\\programs\\python\\python38\\lib\\site-packages (21.0.1)\n",
      "Requirement already satisfied: spacy in c:\\users\\nicol\\appdata\\local\\programs\\python\\python38\\lib\\site-packages (3.0.3)\n",
      "Requirement already satisfied: catalogue<2.1.0,>=2.0.1 in c:\\users\\nicol\\appdata\\local\\programs\\python\\python38\\lib\\site-packages (from spacy) (2.0.1)\n",
      "Requirement already satisfied: preshed<3.1.0,>=3.0.2 in c:\\users\\nicol\\appdata\\local\\programs\\python\\python38\\lib\\site-packages (from spacy) (3.0.5)\n",
      "Requirement already satisfied: spacy-legacy<3.1.0,>=3.0.0 in c:\\users\\nicol\\appdata\\local\\programs\\python\\python38\\lib\\site-packages (from spacy) (3.0.1)\n",
      "Requirement already satisfied: srsly<3.0.0,>=2.4.0 in c:\\users\\nicol\\appdata\\local\\programs\\python\\python38\\lib\\site-packages (from spacy) (2.4.0)\n",
      "Requirement already satisfied: cymem<2.1.0,>=2.0.2 in c:\\users\\nicol\\appdata\\local\\programs\\python\\python38\\lib\\site-packages (from spacy) (2.0.5)\n",
      "Requirement already satisfied: numpy>=1.15.0 in c:\\users\\nicol\\appdata\\local\\programs\\python\\python38\\lib\\site-packages (from spacy) (1.20.1)\n",
      "Requirement already satisfied: murmurhash<1.1.0,>=0.28.0 in c:\\users\\nicol\\appdata\\local\\programs\\python\\python38\\lib\\site-packages (from spacy) (1.0.5)\n",
      "Requirement already satisfied: pathy in c:\\users\\nicol\\appdata\\local\\programs\\python\\python38\\lib\\site-packages (from spacy) (0.4.0)\n",
      "Requirement already satisfied: requests<3.0.0,>=2.13.0 in c:\\users\\nicol\\appdata\\local\\programs\\python\\python38\\lib\\site-packages (from spacy) (2.25.1)\n",
      "Requirement already satisfied: tqdm<5.0.0,>=4.38.0 in c:\\users\\nicol\\appdata\\local\\programs\\python\\python38\\lib\\site-packages (from spacy) (4.57.0)\n",
      "Requirement already satisfied: jinja2 in c:\\users\\nicol\\appdata\\local\\programs\\python\\python38\\lib\\site-packages (from spacy) (2.11.3)\n",
      "Requirement already satisfied: typer<0.4.0,>=0.3.0 in c:\\users\\nicol\\appdata\\local\\programs\\python\\python38\\lib\\site-packages (from spacy) (0.3.2)\n",
      "Requirement already satisfied: thinc<8.1.0,>=8.0.0 in c:\\users\\nicol\\appdata\\local\\programs\\python\\python38\\lib\\site-packages (from spacy) (8.0.1)\n",
      "Requirement already satisfied: pydantic<1.8.0,>=1.7.1 in c:\\users\\nicol\\appdata\\local\\programs\\python\\python38\\lib\\site-packages (from spacy) (1.7.3)\n",
      "Requirement already satisfied: setuptools in c:\\users\\nicol\\appdata\\local\\programs\\python\\python38\\lib\\site-packages (from spacy) (49.2.1)\n",
      "Requirement already satisfied: blis<0.8.0,>=0.4.0 in c:\\users\\nicol\\appdata\\local\\programs\\python\\python38\\lib\\site-packages (from spacy) (0.7.4)\n",
      "Requirement already satisfied: packaging>=20.0 in c:\\users\\nicol\\appdata\\local\\programs\\python\\python38\\lib\\site-packages (from spacy) (20.9)\n",
      "Requirement already satisfied: wasabi<1.1.0,>=0.8.1 in c:\\users\\nicol\\appdata\\local\\programs\\python\\python38\\lib\\site-packages (from spacy) (0.8.2)\n",
      "Requirement already satisfied: pyparsing>=2.0.2 in c:\\users\\nicol\\appdata\\local\\programs\\python\\python38\\lib\\site-packages (from packaging>=20.0->spacy) (2.4.7)\n",
      "Requirement already satisfied: idna<3,>=2.5 in c:\\users\\nicol\\appdata\\local\\programs\\python\\python38\\lib\\site-packages (from requests<3.0.0,>=2.13.0->spacy) (2.10)\n",
      "Requirement already satisfied: chardet<5,>=3.0.2 in c:\\users\\nicol\\appdata\\local\\programs\\python\\python38\\lib\\site-packages (from requests<3.0.0,>=2.13.0->spacy) (4.0.0)\n",
      "Requirement already satisfied: urllib3<1.27,>=1.21.1 in c:\\users\\nicol\\appdata\\local\\programs\\python\\python38\\lib\\site-packages (from requests<3.0.0,>=2.13.0->spacy) (1.26.3)\n",
      "Requirement already satisfied: certifi>=2017.4.17 in c:\\users\\nicol\\appdata\\local\\programs\\python\\python38\\lib\\site-packages (from requests<3.0.0,>=2.13.0->spacy) (2020.12.5)\n",
      "Requirement already satisfied: click<7.2.0,>=7.1.1 in c:\\users\\nicol\\appdata\\local\\programs\\python\\python38\\lib\\site-packages (from typer<0.4.0,>=0.3.0->spacy) (7.1.2)\n"
     ]
    },
    {
     "name": "stdout",
     "output_type": "stream",
     "text": [
      "Requirement already satisfied: MarkupSafe>=0.23 in c:\\users\\nicol\\appdata\\local\\programs\\python\\python38\\lib\\site-packages (from jinja2->spacy) (1.1.1)\n",
      "Requirement already satisfied: smart-open<4.0.0,>=2.2.0 in c:\\users\\nicol\\appdata\\local\\programs\\python\\python38\\lib\\site-packages (from pathy->spacy) (3.0.0)\n",
      "Collecting fr-core-news-sm==3.0.0\n",
      "  Downloading https://github.com/explosion/spacy-models/releases/download/fr_core_news_sm-3.0.0/fr_core_news_sm-3.0.0-py3-none-any.whl (17.2 MB)\n",
      "Requirement already satisfied: spacy<3.1.0,>=3.0.0 in c:\\users\\nicol\\appdata\\local\\programs\\python\\python38\\lib\\site-packages (from fr-core-news-sm==3.0.0) (3.0.3)\n",
      "Requirement already satisfied: cymem<2.1.0,>=2.0.2 in c:\\users\\nicol\\appdata\\local\\programs\\python\\python38\\lib\\site-packages (from spacy<3.1.0,>=3.0.0->fr-core-news-sm==3.0.0) (2.0.5)\n",
      "Requirement already satisfied: thinc<8.1.0,>=8.0.0 in c:\\users\\nicol\\appdata\\local\\programs\\python\\python38\\lib\\site-packages (from spacy<3.1.0,>=3.0.0->fr-core-news-sm==3.0.0) (8.0.1)\n",
      "Requirement already satisfied: spacy-legacy<3.1.0,>=3.0.0 in c:\\users\\nicol\\appdata\\local\\programs\\python\\python38\\lib\\site-packages (from spacy<3.1.0,>=3.0.0->fr-core-news-sm==3.0.0) (3.0.1)\n",
      "Requirement already satisfied: srsly<3.0.0,>=2.4.0 in c:\\users\\nicol\\appdata\\local\\programs\\python\\python38\\lib\\site-packages (from spacy<3.1.0,>=3.0.0->fr-core-news-sm==3.0.0) (2.4.0)\n",
      "Requirement already satisfied: setuptools in c:\\users\\nicol\\appdata\\local\\programs\\python\\python38\\lib\\site-packages (from spacy<3.1.0,>=3.0.0->fr-core-news-sm==3.0.0) (49.2.1)\n",
      "Requirement already satisfied: catalogue<2.1.0,>=2.0.1 in c:\\users\\nicol\\appdata\\local\\programs\\python\\python38\\lib\\site-packages (from spacy<3.1.0,>=3.0.0->fr-core-news-sm==3.0.0) (2.0.1)\n",
      "Requirement already satisfied: numpy>=1.15.0 in c:\\users\\nicol\\appdata\\local\\programs\\python\\python38\\lib\\site-packages (from spacy<3.1.0,>=3.0.0->fr-core-news-sm==3.0.0) (1.20.1)\n",
      "Requirement already satisfied: requests<3.0.0,>=2.13.0 in c:\\users\\nicol\\appdata\\local\\programs\\python\\python38\\lib\\site-packages (from spacy<3.1.0,>=3.0.0->fr-core-news-sm==3.0.0) (2.25.1)\n",
      "Requirement already satisfied: tqdm<5.0.0,>=4.38.0 in c:\\users\\nicol\\appdata\\local\\programs\\python\\python38\\lib\\site-packages (from spacy<3.1.0,>=3.0.0->fr-core-news-sm==3.0.0) (4.57.0)\n",
      "Requirement already satisfied: pydantic<1.8.0,>=1.7.1 in c:\\users\\nicol\\appdata\\local\\programs\\python\\python38\\lib\\site-packages (from spacy<3.1.0,>=3.0.0->fr-core-news-sm==3.0.0) (1.7.3)\n",
      "Requirement already satisfied: blis<0.8.0,>=0.4.0 in c:\\users\\nicol\\appdata\\local\\programs\\python\\python38\\lib\\site-packages (from spacy<3.1.0,>=3.0.0->fr-core-news-sm==3.0.0) (0.7.4)\n",
      "Requirement already satisfied: murmurhash<1.1.0,>=0.28.0 in c:\\users\\nicol\\appdata\\local\\programs\\python\\python38\\lib\\site-packages (from spacy<3.1.0,>=3.0.0->fr-core-news-sm==3.0.0) (1.0.5)\n",
      "Requirement already satisfied: preshed<3.1.0,>=3.0.2 in c:\\users\\nicol\\appdata\\local\\programs\\python\\python38\\lib\\site-packages (from spacy<3.1.0,>=3.0.0->fr-core-news-sm==3.0.0) (3.0.5)\n",
      "Requirement already satisfied: wasabi<1.1.0,>=0.8.1 in c:\\users\\nicol\\appdata\\local\\programs\\python\\python38\\lib\\site-packages (from spacy<3.1.0,>=3.0.0->fr-core-news-sm==3.0.0) (0.8.2)\n",
      "Requirement already satisfied: jinja2 in c:\\users\\nicol\\appdata\\local\\programs\\python\\python38\\lib\\site-packages (from spacy<3.1.0,>=3.0.0->fr-core-news-sm==3.0.0) (2.11.3)\n",
      "Requirement already satisfied: pathy in c:\\users\\nicol\\appdata\\local\\programs\\python\\python38\\lib\\site-packages (from spacy<3.1.0,>=3.0.0->fr-core-news-sm==3.0.0) (0.4.0)\n",
      "Requirement already satisfied: packaging>=20.0 in c:\\users\\nicol\\appdata\\local\\programs\\python\\python38\\lib\\site-packages (from spacy<3.1.0,>=3.0.0->fr-core-news-sm==3.0.0) (20.9)\n",
      "Requirement already satisfied: typer<0.4.0,>=0.3.0 in c:\\users\\nicol\\appdata\\local\\programs\\python\\python38\\lib\\site-packages (from spacy<3.1.0,>=3.0.0->fr-core-news-sm==3.0.0) (0.3.2)\n",
      "Requirement already satisfied: pyparsing>=2.0.2 in c:\\users\\nicol\\appdata\\local\\programs\\python\\python38\\lib\\site-packages (from packaging>=20.0->spacy<3.1.0,>=3.0.0->fr-core-news-sm==3.0.0) (2.4.7)\n",
      "Requirement already satisfied: certifi>=2017.4.17 in c:\\users\\nicol\\appdata\\local\\programs\\python\\python38\\lib\\site-packages (from requests<3.0.0,>=2.13.0->spacy<3.1.0,>=3.0.0->fr-core-news-sm==3.0.0) (2020.12.5)\n",
      "Requirement already satisfied: idna<3,>=2.5 in c:\\users\\nicol\\appdata\\local\\programs\\python\\python38\\lib\\site-packages (from requests<3.0.0,>=2.13.0->spacy<3.1.0,>=3.0.0->fr-core-news-sm==3.0.0) (2.10)\n",
      "Requirement already satisfied: chardet<5,>=3.0.2 in c:\\users\\nicol\\appdata\\local\\programs\\python\\python38\\lib\\site-packages (from requests<3.0.0,>=2.13.0->spacy<3.1.0,>=3.0.0->fr-core-news-sm==3.0.0) (4.0.0)\n",
      "Requirement already satisfied: urllib3<1.27,>=1.21.1 in c:\\users\\nicol\\appdata\\local\\programs\\python\\python38\\lib\\site-packages (from requests<3.0.0,>=2.13.0->spacy<3.1.0,>=3.0.0->fr-core-news-sm==3.0.0) (1.26.3)\n",
      "Requirement already satisfied: click<7.2.0,>=7.1.1 in c:\\users\\nicol\\appdata\\local\\programs\\python\\python38\\lib\\site-packages (from typer<0.4.0,>=0.3.0->spacy<3.1.0,>=3.0.0->fr-core-news-sm==3.0.0) (7.1.2)\n",
      "Requirement already satisfied: MarkupSafe>=0.23 in c:\\users\\nicol\\appdata\\local\\programs\\python\\python38\\lib\\site-packages (from jinja2->spacy<3.1.0,>=3.0.0->fr-core-news-sm==3.0.0) (1.1.1)\n",
      "Requirement already satisfied: smart-open<4.0.0,>=2.2.0 in c:\\users\\nicol\\appdata\\local\\programs\\python\\python38\\lib\\site-packages (from pathy->spacy<3.1.0,>=3.0.0->fr-core-news-sm==3.0.0) (3.0.0)\n",
      "Installing collected packages: fr-core-news-sm\n",
      "  Attempting uninstall: fr-core-news-sm\n",
      "    Found existing installation: fr-core-news-sm 2.0.0\n",
      "    Uninstalling fr-core-news-sm-2.0.0:\n",
      "      Successfully uninstalled fr-core-news-sm-2.0.0\n",
      "Successfully installed fr-core-news-sm-3.0.0\n",
      "[+] Download and installation successful\n",
      "You can now load the package via spacy.load('fr_core_news_sm')\n"
     ]
    }
   ],
   "source": [
    "#!pip install --user https://github.com/explosion/spacy-models/releases/download/fr_core_news_sm-2.0.0/fr_core_news_sm-2.0.0.tar.gz#egg=fr_core_news_sm==2.0.0\n",
    "#!python -m pip install --upgrade pip\n",
    "#!pip install -U spacy\n",
    "#!python -m spacy download fr_core_news_sm"
   ]
  },
  {
   "cell_type": "code",
   "execution_count": 177,
   "metadata": {},
   "outputs": [],
   "source": [
    "import spacy as sp   #spacy for frenchs\n",
    "import fr_core_news_sm as fr"
   ]
  },
  {
   "cell_type": "markdown",
   "metadata": {},
   "source": [
    "# Getting the Json data"
   ]
  },
  {
   "cell_type": "code",
   "execution_count": 178,
   "metadata": {},
   "outputs": [],
   "source": [
    "a = pd.read_json(r'C:\\Users\\nicol\\Documents\\travail\\tfe\\Thesis-main\\dataset.json',encoding='utf-8')"
   ]
  },
  {
   "cell_type": "code",
   "execution_count": 179,
   "metadata": {},
   "outputs": [],
   "source": [
    "nlp_fr = sp.load('fr_core_news_sm')"
   ]
  },
  {
   "cell_type": "code",
   "execution_count": 180,
   "metadata": {
    "scrolled": false
   },
   "outputs": [
    {
     "data": {
      "text/html": [
       "<div>\n",
       "<style scoped>\n",
       "    .dataframe tbody tr th:only-of-type {\n",
       "        vertical-align: middle;\n",
       "    }\n",
       "\n",
       "    .dataframe tbody tr th {\n",
       "        vertical-align: top;\n",
       "    }\n",
       "\n",
       "    .dataframe thead th {\n",
       "        text-align: right;\n",
       "    }\n",
       "</style>\n",
       "<table border=\"1\" class=\"dataframe\">\n",
       "  <thead>\n",
       "    <tr style=\"text-align: right;\">\n",
       "      <th></th>\n",
       "      <th>_id</th>\n",
       "      <th>address</th>\n",
       "      <th>description</th>\n",
       "      <th>description_HTML</th>\n",
       "      <th>end</th>\n",
       "      <th>feedSource</th>\n",
       "      <th>header</th>\n",
       "      <th>imageUrl</th>\n",
       "      <th>labels</th>\n",
       "      <th>pageUrl</th>\n",
       "      <th>start</th>\n",
       "      <th>status</th>\n",
       "      <th>title</th>\n",
       "      <th>author</th>\n",
       "    </tr>\n",
       "  </thead>\n",
       "  <tbody>\n",
       "    <tr>\n",
       "      <th>0</th>\n",
       "      <td>aeXZbAyKlb</td>\n",
       "      <td>La Tchafouille, place de l'Eglise 2 - 1341 Cér...</td>\n",
       "      <td>Midi tambouille à la Tchafouille : Moussaka au...</td>\n",
       "      <td>&lt;div class='event' itemscope='' itemtype='http...</td>\n",
       "      <td>2020-03-03T22:59:59.000Z</td>\n",
       "      <td>4BKM94AFhM</td>\n",
       "      <td>Actions citoyennes et solidaires</td>\n",
       "      <td>http://agenda.olln.be/midi-tambouille-a-la-tch...</td>\n",
       "      <td>[autre]</td>\n",
       "      <td>http://agenda.olln.be/midi-tambouille-a-la-tch...</td>\n",
       "      <td>2020-03-03T11:00:00.000Z</td>\n",
       "      <td>ok</td>\n",
       "      <td>Midi tambouille à la Tchafouille</td>\n",
       "      <td>NaN</td>\n",
       "    </tr>\n",
       "    <tr>\n",
       "      <th>1</th>\n",
       "      <td>Ck5cdpTbxB</td>\n",
       "      <td>Studio 11</td>\n",
       "      <td>Projection du Kot Cinéforum du film 'Girl', de...</td>\n",
       "      <td>&lt;p&gt;Projection du Kot Cinéforum du film 'Girl',...</td>\n",
       "      <td>2020-02-13T21:45:00.000Z</td>\n",
       "      <td>CARPE</td>\n",
       "      <td>culture</td>\n",
       "      <td>http://louvainfo.be/media/events/Girl_2018_fil...</td>\n",
       "      <td>[etudiant, cinema]</td>\n",
       "      <td>https://louvainfo.be/calendrier/3658</td>\n",
       "      <td>2020-02-13T19:45:00.000Z</td>\n",
       "      <td>ok</td>\n",
       "      <td>Projection du film \"Girl\" par le Kot Cinéforum</td>\n",
       "      <td>Kot Cinéforum</td>\n",
       "    </tr>\n",
       "    <tr>\n",
       "      <th>2</th>\n",
       "      <td>SvtChXvw7L</td>\n",
       "      <td>Bibliothèque d’Ottignies  2 avenue des Combatt...</td>\n",
       "      <td>Venez vivre un moment doux et chaleureux avec ...</td>\n",
       "      <td>&lt;div class='event' itemscope='' itemtype='http...</td>\n",
       "      <td>2019-12-11T22:59:59.000Z</td>\n",
       "      <td>4BKM94AFhM</td>\n",
       "      <td>Littérature &amp; Contes</td>\n",
       "      <td>http://agenda.olln.be/heure-du-conte/@@images/...</td>\n",
       "      <td>[lecture]</td>\n",
       "      <td>http://agenda.olln.be/heure-du-conte</td>\n",
       "      <td>2019-12-11T14:00:00.000Z</td>\n",
       "      <td>ok</td>\n",
       "      <td>Heure du conte</td>\n",
       "      <td>NaN</td>\n",
       "    </tr>\n",
       "    <tr>\n",
       "      <th>3</th>\n",
       "      <td>VBFMh18itq</td>\n",
       "      <td>Point Culture, Place Galilée 9/9A, 1348 Ottign...</td>\n",
       "      <td>Trois jeunes Tunisiennes, ados de la révolutio...</td>\n",
       "      <td>&lt;div class='detail__text col col--full'&gt;&lt;div c...</td>\n",
       "      <td>2019-11-28T22:59:00.000Z</td>\n",
       "      <td>POINTCULTURE</td>\n",
       "      <td>cycle</td>\n",
       "      <td>https://static.pointculture.be/media/images/TB...</td>\n",
       "      <td>[cinema]</td>\n",
       "      <td>https://www.pointculture.be/agenda/evenements/...</td>\n",
       "      <td>2019-11-28T18:30:00.000Z</td>\n",
       "      <td>ok</td>\n",
       "      <td>Les Fleurs Du Bitume | Take back the night !</td>\n",
       "      <td>NaN</td>\n",
       "    </tr>\n",
       "    <tr>\n",
       "      <th>4</th>\n",
       "      <td>dBSJOXPqDq</td>\n",
       "      <td>Ateliers d'art de la Baraque  1, rue des Artis...</td>\n",
       "      <td>Collage  | mercredi 9h30-12h30 | 300€ \\r\\nUne ...</td>\n",
       "      <td>&lt;details&gt;&lt;p&gt;&lt;strong&gt;Collage&lt;/strong&gt; | mercred...</td>\n",
       "      <td>2019-09-30T21:59:00.000Z</td>\n",
       "      <td>4BKM94AFhM</td>\n",
       "      <td>Actions citoyennes et solidaires, Ateliers &amp; ...</td>\n",
       "      <td>http://agenda.olln.be/atelier-collage-danse-im...</td>\n",
       "      <td>[atelier, theatre]</td>\n",
       "      <td>http://agenda.olln.be/atelier-collage-danse-im...</td>\n",
       "      <td>2019-09-29T22:00:00.000Z</td>\n",
       "      <td>ok</td>\n",
       "      <td>Atelier - Collage, Danse, Image, Théâtre...</td>\n",
       "      <td>NaN</td>\n",
       "    </tr>\n",
       "    <tr>\n",
       "      <th>...</th>\n",
       "      <td>...</td>\n",
       "      <td>...</td>\n",
       "      <td>...</td>\n",
       "      <td>...</td>\n",
       "      <td>...</td>\n",
       "      <td>...</td>\n",
       "      <td>...</td>\n",
       "      <td>...</td>\n",
       "      <td>...</td>\n",
       "      <td>...</td>\n",
       "      <td>...</td>\n",
       "      <td>...</td>\n",
       "      <td>...</td>\n",
       "      <td>...</td>\n",
       "    </tr>\n",
       "    <tr>\n",
       "      <th>918</th>\n",
       "      <td>0pfjSAAdEf</td>\n",
       "      <td>Aula Magna, Place Raymond Lemaire 1, 1348 Otti...</td>\n",
       "      <td>Danse Irlandaise CELTIC LEGENDS. La danse irla...</td>\n",
       "      <td>&lt;div class='single-event--right col-lg-8'&gt;&lt;ul ...</td>\n",
       "      <td>2020-02-11T22:59:59.000Z</td>\n",
       "      <td>AULAMAGNA</td>\n",
       "      <td>Danse Irlandaise</td>\n",
       "      <td>https://library.utick.be/activities/323F2F78-5...</td>\n",
       "      <td>[spectacle-danse]</td>\n",
       "      <td>http://aulamagna.be/agenda-culturel/?article=3...</td>\n",
       "      <td>2020-02-11T19:00:00.000Z</td>\n",
       "      <td>NaN</td>\n",
       "      <td>CELTIC LEGENDS.</td>\n",
       "      <td>NaN</td>\n",
       "    </tr>\n",
       "    <tr>\n",
       "      <th>919</th>\n",
       "      <td>iy9wFqjr54</td>\n",
       "      <td>Forum des Halles, Office du Tourisme-Inforvill...</td>\n",
       "      <td>\\n\\n\\n \\n\\n\\n \\n\\n\\nLa peintre Nicole Delsaux ...</td>\n",
       "      <td>\\n\\n\\n \\n\\n\\n \\n\\n\\nLa peintre Nicole Delsaux ...</td>\n",
       "      <td>2019-09-15T22:00:00.000Z</td>\n",
       "      <td>INFORVILLE</td>\n",
       "      <td>exposition</td>\n",
       "      <td>http://www.tourisme-olln.be/imf/c/eyJtYXNrIjoi...</td>\n",
       "      <td>[exposition-peinture, exposition-sculture]</td>\n",
       "      <td>http://www.tourisme-olln.be/fr/la-couleur-et-l...</td>\n",
       "      <td>2019-08-30T22:00:00.000Z</td>\n",
       "      <td>NaN</td>\n",
       "      <td>La couleur et la pierre, une rencontre</td>\n",
       "      <td>NaN</td>\n",
       "    </tr>\n",
       "    <tr>\n",
       "      <th>920</th>\n",
       "      <td>cgEGsd3DH6</td>\n",
       "      <td>Studio 13 - 1348 Louvain-la-Neuve</td>\n",
       "      <td>Par Claude Martin (ancien ambassadeur de Franc...</td>\n",
       "      <td>&lt;div class='event' itemscope='' itemtype='http...</td>\n",
       "      <td>2019-12-09T22:59:59.000Z</td>\n",
       "      <td>4BKM94AFhM</td>\n",
       "      <td>Conférences &amp; Débats</td>\n",
       "      <td>http://agenda.olln.be/la-diplomatie-nest-pas-u...</td>\n",
       "      <td>[conference-politique]</td>\n",
       "      <td>http://agenda.olln.be/la-diplomatie-nest-pas-u...</td>\n",
       "      <td>2019-12-09T18:30:00.000Z</td>\n",
       "      <td></td>\n",
       "      <td>La diplomatie n'est pas un dîner de gala</td>\n",
       "      <td>NaN</td>\n",
       "    </tr>\n",
       "    <tr>\n",
       "      <th>921</th>\n",
       "      <td>wP4LHxGIKh</td>\n",
       "      <td>Ferme du Biéreau, place Polyvalente, avenue du...</td>\n",
       "      <td>Ninalisa     \\r09.10.2019\\r Entre théâtre et m...</td>\n",
       "      <td>&lt;div class=\"BodyMiddleContainer\"&gt;&lt;div class=\"T...</td>\n",
       "      <td>2019-10-09T21:59:59.000Z</td>\n",
       "      <td>INFORVILLE</td>\n",
       "      <td>concert spectacle théâtre</td>\n",
       "      <td>http://www.tourisme-olln.be/imf/c/eyJtYXNrIjoi...</td>\n",
       "      <td>[spectacle-autre, concert-jazz, concert-classi...</td>\n",
       "      <td>http://www.tourisme-olln.be/fr/ninalisa.html?c...</td>\n",
       "      <td>2019-10-08T22:00:00.000Z</td>\n",
       "      <td>NaN</td>\n",
       "      <td>Ninalisa</td>\n",
       "      <td>NaN</td>\n",
       "    </tr>\n",
       "    <tr>\n",
       "      <th>922</th>\n",
       "      <td>FLD5nNVFL6</td>\n",
       "      <td>Ferme du Biéreau, avenue du Jardin Botanique, ...</td>\n",
       "      <td>Tryo - COMPLET !     13.12.2019 En 2020, cela ...</td>\n",
       "      <td>&lt;div class='BodyMiddleContainer'&gt;&lt;div class='T...</td>\n",
       "      <td>2019-12-13T22:59:59.000Z</td>\n",
       "      <td>INFORVILLE</td>\n",
       "      <td></td>\n",
       "      <td>http://www.tourisme-olln.be/imf/c/eyJtYXNrIjoi...</td>\n",
       "      <td>[spectacle-autre, concert-musique francaise]</td>\n",
       "      <td>http://www.tourisme-olln.be/fr/tryo-complet.ht...</td>\n",
       "      <td>2019-12-12T23:00:00.000Z</td>\n",
       "      <td>NaN</td>\n",
       "      <td>Tryo - COMPLET !</td>\n",
       "      <td>NaN</td>\n",
       "    </tr>\n",
       "  </tbody>\n",
       "</table>\n",
       "<p>923 rows × 14 columns</p>\n",
       "</div>"
      ],
      "text/plain": [
       "            _id                                            address  \\\n",
       "0    aeXZbAyKlb  La Tchafouille, place de l'Eglise 2 - 1341 Cér...   \n",
       "1    Ck5cdpTbxB                                          Studio 11   \n",
       "2    SvtChXvw7L  Bibliothèque d’Ottignies  2 avenue des Combatt...   \n",
       "3    VBFMh18itq  Point Culture, Place Galilée 9/9A, 1348 Ottign...   \n",
       "4    dBSJOXPqDq  Ateliers d'art de la Baraque  1, rue des Artis...   \n",
       "..          ...                                                ...   \n",
       "918  0pfjSAAdEf  Aula Magna, Place Raymond Lemaire 1, 1348 Otti...   \n",
       "919  iy9wFqjr54  Forum des Halles, Office du Tourisme-Inforvill...   \n",
       "920  cgEGsd3DH6                  Studio 13 - 1348 Louvain-la-Neuve   \n",
       "921  wP4LHxGIKh  Ferme du Biéreau, place Polyvalente, avenue du...   \n",
       "922  FLD5nNVFL6  Ferme du Biéreau, avenue du Jardin Botanique, ...   \n",
       "\n",
       "                                           description  \\\n",
       "0    Midi tambouille à la Tchafouille : Moussaka au...   \n",
       "1    Projection du Kot Cinéforum du film 'Girl', de...   \n",
       "2    Venez vivre un moment doux et chaleureux avec ...   \n",
       "3    Trois jeunes Tunisiennes, ados de la révolutio...   \n",
       "4    Collage  | mercredi 9h30-12h30 | 300€ \\r\\nUne ...   \n",
       "..                                                 ...   \n",
       "918  Danse Irlandaise CELTIC LEGENDS. La danse irla...   \n",
       "919  \\n\\n\\n \\n\\n\\n \\n\\n\\nLa peintre Nicole Delsaux ...   \n",
       "920  Par Claude Martin (ancien ambassadeur de Franc...   \n",
       "921  Ninalisa     \\r09.10.2019\\r Entre théâtre et m...   \n",
       "922  Tryo - COMPLET !     13.12.2019 En 2020, cela ...   \n",
       "\n",
       "                                      description_HTML  \\\n",
       "0    <div class='event' itemscope='' itemtype='http...   \n",
       "1    <p>Projection du Kot Cinéforum du film 'Girl',...   \n",
       "2    <div class='event' itemscope='' itemtype='http...   \n",
       "3    <div class='detail__text col col--full'><div c...   \n",
       "4    <details><p><strong>Collage</strong> | mercred...   \n",
       "..                                                 ...   \n",
       "918  <div class='single-event--right col-lg-8'><ul ...   \n",
       "919  \\n\\n\\n \\n\\n\\n \\n\\n\\nLa peintre Nicole Delsaux ...   \n",
       "920  <div class='event' itemscope='' itemtype='http...   \n",
       "921  <div class=\"BodyMiddleContainer\"><div class=\"T...   \n",
       "922  <div class='BodyMiddleContainer'><div class='T...   \n",
       "\n",
       "                          end    feedSource  \\\n",
       "0    2020-03-03T22:59:59.000Z    4BKM94AFhM   \n",
       "1    2020-02-13T21:45:00.000Z         CARPE   \n",
       "2    2019-12-11T22:59:59.000Z    4BKM94AFhM   \n",
       "3    2019-11-28T22:59:00.000Z  POINTCULTURE   \n",
       "4    2019-09-30T21:59:00.000Z    4BKM94AFhM   \n",
       "..                        ...           ...   \n",
       "918  2020-02-11T22:59:59.000Z     AULAMAGNA   \n",
       "919  2019-09-15T22:00:00.000Z    INFORVILLE   \n",
       "920  2019-12-09T22:59:59.000Z    4BKM94AFhM   \n",
       "921  2019-10-09T21:59:59.000Z    INFORVILLE   \n",
       "922  2019-12-13T22:59:59.000Z    INFORVILLE   \n",
       "\n",
       "                                                header  \\\n",
       "0                     Actions citoyennes et solidaires   \n",
       "1                                              culture   \n",
       "2                                 Littérature & Contes   \n",
       "3                                                cycle   \n",
       "4     Actions citoyennes et solidaires, Ateliers & ...   \n",
       "..                                                 ...   \n",
       "918                                   Danse Irlandaise   \n",
       "919                                         exposition   \n",
       "920                               Conférences & Débats   \n",
       "921                          concert spectacle théâtre   \n",
       "922                                                      \n",
       "\n",
       "                                              imageUrl  \\\n",
       "0    http://agenda.olln.be/midi-tambouille-a-la-tch...   \n",
       "1    http://louvainfo.be/media/events/Girl_2018_fil...   \n",
       "2    http://agenda.olln.be/heure-du-conte/@@images/...   \n",
       "3    https://static.pointculture.be/media/images/TB...   \n",
       "4    http://agenda.olln.be/atelier-collage-danse-im...   \n",
       "..                                                 ...   \n",
       "918  https://library.utick.be/activities/323F2F78-5...   \n",
       "919  http://www.tourisme-olln.be/imf/c/eyJtYXNrIjoi...   \n",
       "920  http://agenda.olln.be/la-diplomatie-nest-pas-u...   \n",
       "921  http://www.tourisme-olln.be/imf/c/eyJtYXNrIjoi...   \n",
       "922  http://www.tourisme-olln.be/imf/c/eyJtYXNrIjoi...   \n",
       "\n",
       "                                                labels  \\\n",
       "0                                              [autre]   \n",
       "1                                   [etudiant, cinema]   \n",
       "2                                            [lecture]   \n",
       "3                                             [cinema]   \n",
       "4                                   [atelier, theatre]   \n",
       "..                                                 ...   \n",
       "918                                  [spectacle-danse]   \n",
       "919         [exposition-peinture, exposition-sculture]   \n",
       "920                             [conference-politique]   \n",
       "921  [spectacle-autre, concert-jazz, concert-classi...   \n",
       "922       [spectacle-autre, concert-musique francaise]   \n",
       "\n",
       "                                               pageUrl  \\\n",
       "0    http://agenda.olln.be/midi-tambouille-a-la-tch...   \n",
       "1                 https://louvainfo.be/calendrier/3658   \n",
       "2                 http://agenda.olln.be/heure-du-conte   \n",
       "3    https://www.pointculture.be/agenda/evenements/...   \n",
       "4    http://agenda.olln.be/atelier-collage-danse-im...   \n",
       "..                                                 ...   \n",
       "918  http://aulamagna.be/agenda-culturel/?article=3...   \n",
       "919  http://www.tourisme-olln.be/fr/la-couleur-et-l...   \n",
       "920  http://agenda.olln.be/la-diplomatie-nest-pas-u...   \n",
       "921  http://www.tourisme-olln.be/fr/ninalisa.html?c...   \n",
       "922  http://www.tourisme-olln.be/fr/tryo-complet.ht...   \n",
       "\n",
       "                        start status  \\\n",
       "0    2020-03-03T11:00:00.000Z     ok   \n",
       "1    2020-02-13T19:45:00.000Z     ok   \n",
       "2    2019-12-11T14:00:00.000Z     ok   \n",
       "3    2019-11-28T18:30:00.000Z     ok   \n",
       "4    2019-09-29T22:00:00.000Z     ok   \n",
       "..                        ...    ...   \n",
       "918  2020-02-11T19:00:00.000Z    NaN   \n",
       "919  2019-08-30T22:00:00.000Z    NaN   \n",
       "920  2019-12-09T18:30:00.000Z          \n",
       "921  2019-10-08T22:00:00.000Z    NaN   \n",
       "922  2019-12-12T23:00:00.000Z    NaN   \n",
       "\n",
       "                                              title         author  \n",
       "0                  Midi tambouille à la Tchafouille            NaN  \n",
       "1    Projection du film \"Girl\" par le Kot Cinéforum  Kot Cinéforum  \n",
       "2                                    Heure du conte            NaN  \n",
       "3      Les Fleurs Du Bitume | Take back the night !            NaN  \n",
       "4       Atelier - Collage, Danse, Image, Théâtre...            NaN  \n",
       "..                                              ...            ...  \n",
       "918                                 CELTIC LEGENDS.            NaN  \n",
       "919          La couleur et la pierre, une rencontre            NaN  \n",
       "920        La diplomatie n'est pas un dîner de gala            NaN  \n",
       "921                                        Ninalisa            NaN  \n",
       "922                                Tryo - COMPLET !            NaN  \n",
       "\n",
       "[923 rows x 14 columns]"
      ]
     },
     "execution_count": 180,
     "metadata": {},
     "output_type": "execute_result"
    }
   ],
   "source": [
    "a"
   ]
  },
  {
   "cell_type": "code",
   "execution_count": 181,
   "metadata": {},
   "outputs": [],
   "source": [
    "df = [a[\"description\"], a['header'],a['labels'], a['title']]  #specifing which columns to take into consideration when we do the classfication\n",
    "df = pd.concat(df, axis=1, keys=[\"description\", \"header\", \"labels\",\"title\"])"
   ]
  },
  {
   "cell_type": "code",
   "execution_count": 182,
   "metadata": {},
   "outputs": [
    {
     "data": {
      "text/html": [
       "<div>\n",
       "<style scoped>\n",
       "    .dataframe tbody tr th:only-of-type {\n",
       "        vertical-align: middle;\n",
       "    }\n",
       "\n",
       "    .dataframe tbody tr th {\n",
       "        vertical-align: top;\n",
       "    }\n",
       "\n",
       "    .dataframe thead th {\n",
       "        text-align: right;\n",
       "    }\n",
       "</style>\n",
       "<table border=\"1\" class=\"dataframe\">\n",
       "  <thead>\n",
       "    <tr style=\"text-align: right;\">\n",
       "      <th></th>\n",
       "      <th>description</th>\n",
       "      <th>header</th>\n",
       "      <th>labels</th>\n",
       "      <th>title</th>\n",
       "    </tr>\n",
       "  </thead>\n",
       "  <tbody>\n",
       "    <tr>\n",
       "      <th>0</th>\n",
       "      <td>Midi tambouille à la Tchafouille : Moussaka au...</td>\n",
       "      <td>Actions citoyennes et solidaires</td>\n",
       "      <td>[autre]</td>\n",
       "      <td>Midi tambouille à la Tchafouille</td>\n",
       "    </tr>\n",
       "    <tr>\n",
       "      <th>1</th>\n",
       "      <td>Projection du Kot Cinéforum du film 'Girl', de...</td>\n",
       "      <td>culture</td>\n",
       "      <td>[etudiant, cinema]</td>\n",
       "      <td>Projection du film \"Girl\" par le Kot Cinéforum</td>\n",
       "    </tr>\n",
       "    <tr>\n",
       "      <th>2</th>\n",
       "      <td>Venez vivre un moment doux et chaleureux avec ...</td>\n",
       "      <td>Littérature &amp; Contes</td>\n",
       "      <td>[lecture]</td>\n",
       "      <td>Heure du conte</td>\n",
       "    </tr>\n",
       "    <tr>\n",
       "      <th>3</th>\n",
       "      <td>Trois jeunes Tunisiennes, ados de la révolutio...</td>\n",
       "      <td>cycle</td>\n",
       "      <td>[cinema]</td>\n",
       "      <td>Les Fleurs Du Bitume | Take back the night !</td>\n",
       "    </tr>\n",
       "    <tr>\n",
       "      <th>4</th>\n",
       "      <td>Collage  | mercredi 9h30-12h30 | 300€ \\r\\nUne ...</td>\n",
       "      <td>Actions citoyennes et solidaires, Ateliers &amp; ...</td>\n",
       "      <td>[atelier, theatre]</td>\n",
       "      <td>Atelier - Collage, Danse, Image, Théâtre...</td>\n",
       "    </tr>\n",
       "    <tr>\n",
       "      <th>...</th>\n",
       "      <td>...</td>\n",
       "      <td>...</td>\n",
       "      <td>...</td>\n",
       "      <td>...</td>\n",
       "    </tr>\n",
       "    <tr>\n",
       "      <th>918</th>\n",
       "      <td>Danse Irlandaise CELTIC LEGENDS. La danse irla...</td>\n",
       "      <td>Danse Irlandaise</td>\n",
       "      <td>[spectacle-danse]</td>\n",
       "      <td>CELTIC LEGENDS.</td>\n",
       "    </tr>\n",
       "    <tr>\n",
       "      <th>919</th>\n",
       "      <td>\\n\\n\\n \\n\\n\\n \\n\\n\\nLa peintre Nicole Delsaux ...</td>\n",
       "      <td>exposition</td>\n",
       "      <td>[exposition-peinture, exposition-sculture]</td>\n",
       "      <td>La couleur et la pierre, une rencontre</td>\n",
       "    </tr>\n",
       "    <tr>\n",
       "      <th>920</th>\n",
       "      <td>Par Claude Martin (ancien ambassadeur de Franc...</td>\n",
       "      <td>Conférences &amp; Débats</td>\n",
       "      <td>[conference-politique]</td>\n",
       "      <td>La diplomatie n'est pas un dîner de gala</td>\n",
       "    </tr>\n",
       "    <tr>\n",
       "      <th>921</th>\n",
       "      <td>Ninalisa     \\r09.10.2019\\r Entre théâtre et m...</td>\n",
       "      <td>concert spectacle théâtre</td>\n",
       "      <td>[spectacle-autre, concert-jazz, concert-classi...</td>\n",
       "      <td>Ninalisa</td>\n",
       "    </tr>\n",
       "    <tr>\n",
       "      <th>922</th>\n",
       "      <td>Tryo - COMPLET !     13.12.2019 En 2020, cela ...</td>\n",
       "      <td></td>\n",
       "      <td>[spectacle-autre, concert-musique francaise]</td>\n",
       "      <td>Tryo - COMPLET !</td>\n",
       "    </tr>\n",
       "  </tbody>\n",
       "</table>\n",
       "<p>923 rows × 4 columns</p>\n",
       "</div>"
      ],
      "text/plain": [
       "                                           description  \\\n",
       "0    Midi tambouille à la Tchafouille : Moussaka au...   \n",
       "1    Projection du Kot Cinéforum du film 'Girl', de...   \n",
       "2    Venez vivre un moment doux et chaleureux avec ...   \n",
       "3    Trois jeunes Tunisiennes, ados de la révolutio...   \n",
       "4    Collage  | mercredi 9h30-12h30 | 300€ \\r\\nUne ...   \n",
       "..                                                 ...   \n",
       "918  Danse Irlandaise CELTIC LEGENDS. La danse irla...   \n",
       "919  \\n\\n\\n \\n\\n\\n \\n\\n\\nLa peintre Nicole Delsaux ...   \n",
       "920  Par Claude Martin (ancien ambassadeur de Franc...   \n",
       "921  Ninalisa     \\r09.10.2019\\r Entre théâtre et m...   \n",
       "922  Tryo - COMPLET !     13.12.2019 En 2020, cela ...   \n",
       "\n",
       "                                                header  \\\n",
       "0                     Actions citoyennes et solidaires   \n",
       "1                                              culture   \n",
       "2                                 Littérature & Contes   \n",
       "3                                                cycle   \n",
       "4     Actions citoyennes et solidaires, Ateliers & ...   \n",
       "..                                                 ...   \n",
       "918                                   Danse Irlandaise   \n",
       "919                                         exposition   \n",
       "920                               Conférences & Débats   \n",
       "921                          concert spectacle théâtre   \n",
       "922                                                      \n",
       "\n",
       "                                                labels  \\\n",
       "0                                              [autre]   \n",
       "1                                   [etudiant, cinema]   \n",
       "2                                            [lecture]   \n",
       "3                                             [cinema]   \n",
       "4                                   [atelier, theatre]   \n",
       "..                                                 ...   \n",
       "918                                  [spectacle-danse]   \n",
       "919         [exposition-peinture, exposition-sculture]   \n",
       "920                             [conference-politique]   \n",
       "921  [spectacle-autre, concert-jazz, concert-classi...   \n",
       "922       [spectacle-autre, concert-musique francaise]   \n",
       "\n",
       "                                              title  \n",
       "0                  Midi tambouille à la Tchafouille  \n",
       "1    Projection du film \"Girl\" par le Kot Cinéforum  \n",
       "2                                    Heure du conte  \n",
       "3      Les Fleurs Du Bitume | Take back the night !  \n",
       "4       Atelier - Collage, Danse, Image, Théâtre...  \n",
       "..                                              ...  \n",
       "918                                 CELTIC LEGENDS.  \n",
       "919          La couleur et la pierre, une rencontre  \n",
       "920        La diplomatie n'est pas un dîner de gala  \n",
       "921                                        Ninalisa  \n",
       "922                                Tryo - COMPLET !  \n",
       "\n",
       "[923 rows x 4 columns]"
      ]
     },
     "execution_count": 182,
     "metadata": {},
     "output_type": "execute_result"
    }
   ],
   "source": [
    "#type(df.labels[0])\n",
    "df"
   ]
  },
  {
   "cell_type": "code",
   "execution_count": 183,
   "metadata": {},
   "outputs": [
    {
     "name": "stdout",
     "output_type": "stream",
     "text": [
      "Midi tambouille à la Tchafouille : Moussaka au menu!  Prix : 2 euros. Inscriptions souhaitées. Venez préparer et manger ce délicieux plat grec en notre compagnie! Le rendez-vous est à midi. www.latchafouille.be\n"
     ]
    }
   ],
   "source": [
    "pp = a['description'][0]\n",
    "print(pp)"
   ]
  },
  {
   "cell_type": "code",
   "execution_count": 184,
   "metadata": {},
   "outputs": [],
   "source": [
    "#nltk.download('punkt')     #to use with nltk need to be downlaoded first for punctuation\n",
    "#nltk.download('stopwords')   #stopwords in english/french"
   ]
  },
  {
   "cell_type": "markdown",
   "metadata": {},
   "source": [
    "# Text Processing Using NLTK"
   ]
  },
  {
   "cell_type": "code",
   "execution_count": 231,
   "metadata": {},
   "outputs": [],
   "source": [
    "def preprocess_nltk(pp):\n",
    "    #print(\"in\")\n",
    "    sentences = sent_tokenize(pp)                          #split into sentences\n",
    "    tokens = word_tokenize(pp)                             #tokenize words\n",
    "    tokens = [w.lower() for w in tokens]                  #transforming into lower case\n",
    "    words = [word for word in tokens if word.isalpha()]    #removing puntuation\n",
    "    stop_words = stopwords.words('french')   #french stopwords\n",
    "    words = [w for w in words if not w in stop_words]        #removing stop words\n",
    "    stemmer = FrenchStemmer()\n",
    "    stemmed = [stemmer.stem(word) for word in words]   #not very accurate\n",
    "    #print(stemmed)\n",
    "    return stemmed"
   ]
  },
  {
   "cell_type": "code",
   "execution_count": 232,
   "metadata": {},
   "outputs": [],
   "source": [
    "# Python program to convert a list \n",
    "# to string using join() function \n",
    "    \n",
    "# Function to convert   \n",
    "def listToString(s):  \n",
    "    \n",
    "    # initialize an empty string \n",
    "    str1 = \" \" \n",
    "    \n",
    "    # return string   \n",
    "    return (str1.join(s)) \n",
    "  "
   ]
  },
  {
   "cell_type": "code",
   "execution_count": 233,
   "metadata": {},
   "outputs": [],
   "source": [
    "desc_nltk = []\n",
    "for descr in a['description'][:]:\n",
    "    desc_nltk.append(listToString(preprocess_nltk(descr)))\n",
    "df['desc_nltk'] = desc_nltk"
   ]
  },
  {
   "cell_type": "code",
   "execution_count": 234,
   "metadata": {},
   "outputs": [
    {
     "name": "stdout",
     "output_type": "stream",
     "text": [
      "0      mid tambouill tchafouill moussak menu prix eur...\n",
      "1      project kot cinéforum film luk dhondt film bel...\n",
      "2      ven vivr moment doux chaleur enfant racont his...\n",
      "3      trois jeun tunisien ados révolu jasmin emparen...\n",
      "4      collag mercred invit pos regard ludiqu décal i...\n",
      "                             ...                        \n",
      "918    dans irlandais celtic legend dans irlandais a ...\n",
      "919    peintr nicol delsal sculpteur albert contess f...\n",
      "920    claud martin ancien ambassadeur franc chin vi ...\n",
      "921    ninalis entre théâtr musiqu duettist chantent ...\n",
      "922    tryo complet cel fer an déjà group tryo occup ...\n",
      "Name: desc_nltk, Length: 923, dtype: object\n"
     ]
    }
   ],
   "source": [
    "print(df['desc_nltk'])"
   ]
  },
  {
   "cell_type": "code",
   "execution_count": 235,
   "metadata": {},
   "outputs": [
    {
     "name": "stdout",
     "output_type": "stream",
     "text": [
      "['mid', 'tambouill', 'tchafouill', 'moussak', 'menu', 'prix', 'euros', 'inscript', 'souhait', 'ven', 'prépar', 'mang', 'délici', 'plat', 'grec', 'compagn', 'mid']\n"
     ]
    }
   ],
   "source": [
    "print(preprocess_nltk(df['description'][0]))   #stemmed words using nltk"
   ]
  },
  {
   "cell_type": "markdown",
   "metadata": {},
   "source": [
    "\n",
    "# Text Processing Using SpaCy"
   ]
  },
  {
   "cell_type": "code",
   "execution_count": 221,
   "metadata": {
    "scrolled": true
   },
   "outputs": [],
   "source": [
    "import spacy as sp   #spacy for frenchs\n",
    "import fr_core_news_sm as fr\n",
    "nlp_fr = sp.load('fr_core_news_sm')"
   ]
  },
  {
   "cell_type": "code",
   "execution_count": 222,
   "metadata": {
    "scrolled": true
   },
   "outputs": [],
   "source": [
    "complete_doc = nlp_fr(df['description'][0])\n",
    "#TODO : The preproccess (stop word, lemma, etc)"
   ]
  },
  {
   "cell_type": "markdown",
   "metadata": {},
   "source": [
    "# Text Processing Using TreeTagger"
   ]
  },
  {
   "cell_type": "code",
   "execution_count": 236,
   "metadata": {},
   "outputs": [],
   "source": [
    "with open('description_prepro_with_TreeTagger.txt', 'r', encoding=\"utf-8\") as f:\n",
    "    temp = f.read() \n",
    "desc_treetag = (temp.split('\\n'))\n",
    "del(desc_treetag[-1])\n",
    "df['desc_treetag'] = desc_treetag"
   ]
  },
  {
   "cell_type": "code",
   "execution_count": 239,
   "metadata": {},
   "outputs": [
    {
     "data": {
      "text/plain": [
       "0      midi tambouille tchafouille moussaka menu prix...\n",
       "1      projection kot cinéforum film lukas dhondt fil...\n",
       "2      venir vivre moment doux chaleureux enfant raco...\n",
       "3      trois jeune tunisien ados révolution jasmin em...\n",
       "4      collage mercredi invitation poser regard ludiq...\n",
       "                             ...                        \n",
       "918    danse irlandais celtic legends danser irlandai...\n",
       "919    peintre nicole delsaux sculpteur albert contes...\n",
       "920    claude martin ancien ambassadeur france chiner...\n",
       "921    ninalisa entre théâtre musique duettiste chant...\n",
       "922    tryo complet cela faire an déjà grouper tryo o...\n",
       "Name: desc_treetag, Length: 923, dtype: object"
      ]
     },
     "execution_count": 239,
     "metadata": {},
     "output_type": "execute_result"
    }
   ],
   "source": [
    "df['desc_treetag']"
   ]
  },
  {
   "cell_type": "code",
   "execution_count": null,
   "metadata": {},
   "outputs": [],
   "source": [
    "#!pip install -U treetaggerwrapper\n",
    "#import nltk\n",
    "#nltk.download()\n",
    "import pprint   # For proper print of sequences.\n",
    "import treetaggerwrapper\n",
    "#0)remove ponctuation\n",
    "sentences = sent_tokenize(pp)                          #split into sentences\n",
    "tokens = word_tokenize(pp)                             #tokenize words\n",
    "tokens = [w.lower() for w in tokens]                  #transforming into lower case\n",
    "words = [word for word in tokens if word.isalpha()]    #removing puntuation\n",
    "stop_words = stopwords.words('french')   #french stopwords\n",
    "words = [w for w in words if not w in stop_words]        #removing stop words\n",
    "#1) build a TreeTagger wrapper:\n",
    "tagger = treetaggerwrapper.TreeTagger(TAGLANG='fr')\n",
    "#2) tag your text.\n",
    "tags = tagger.tag_text(words)\n",
    "tags2 = treetaggerwrapper.make_tags(tags)\n",
    "#3) use the tags list... (list of string output from TreeTagger).\n",
    "pprint.pprint(tags2)\n",
    "\n",
    "    \n",
    "def preprocess(pp):\n",
    "    #0)remove ponctuation\n",
    "    sentences = sent_tokenize(pp)                          #split into sentences\n",
    "    tokens = word_tokenize(pp)                             #tokenize words\n",
    "    tokens = [w.lower() for w in tokens]                  #transforming into lower case\n",
    "    words = [word for word in tokens if word.isalpha()]    #removing puntuation\n",
    "    stop_words = stopwords.words('french')   #french stopwords\n",
    "    words = [w for w in words if not w in stop_words]        #removing stop words\n",
    "    #1) build a TreeTagger wrapper:\n",
    "    tagger = treetaggerwrapper.TreeTagger(TAGLANG='fr')\n",
    "    #2) tag your text.\n",
    "    tags = tagger.tag_text(words)\n",
    "    tags2 = treetaggerwrapper.make_tags(tags)\n",
    "    #3) create new description.\n",
    "    new_descr = []\n",
    "    for word, tag, lemma in tags2:\n",
    "        new_descr.append(lemma)\n",
    "    return new_descr"
   ]
  },
  {
   "cell_type": "code",
   "execution_count": null,
   "metadata": {},
   "outputs": [],
   "source": [
    "alldescr = a[\"description\"]\n",
    "new_alldescr = []\n",
    "print(alldescr)\n",
    "count=0\n",
    "for descr in alldescr:\n",
    "    new_alldescr.append(preprocess(descr))\n",
    "    count += 1\n",
    "    print(count)\n",
    "    #if count > 100: break"
   ]
  },
  {
   "cell_type": "markdown",
   "metadata": {},
   "source": [
    "# Taking Only Principal Labels"
   ]
  },
  {
   "cell_type": "code",
   "execution_count": 193,
   "metadata": {
    "scrolled": true
   },
   "outputs": [
    {
     "name": "stdout",
     "output_type": "stream",
     "text": [
      "0                                                [autre]\n",
      "1                                     [etudiant, cinema]\n",
      "2                                              [lecture]\n",
      "3                                               [cinema]\n",
      "4                                     [atelier, theatre]\n",
      "                             ...                        \n",
      "918                                    [spectacle-danse]\n",
      "919           [exposition-peinture, exposition-sculture]\n",
      "920                               [conference-politique]\n",
      "921    [spectacle-autre, concert-jazz, concert-classi...\n",
      "922         [spectacle-autre, concert-musique francaise]\n",
      "Name: labels, Length: 923, dtype: object\n"
     ]
    }
   ],
   "source": [
    "print(df.labels)\n",
    "#labs = ['concert', 'conference', 'exposition', 'spectacle', 'sport'] #c'est seulement les labels qui ont des sous labels\n",
    "labs = ['atelier', 'autre', 'brocante', 'cinema', 'concert', 'conference',\n",
    "       'etudiant', 'exposition', 'fete', 'lecture', 'spectacle', 'sport',\n",
    "       'theatre']\n",
    "general_labs = []\n",
    "for tup in df.labels:\n",
    "    glabs = []\n",
    "    for word in tup:            \n",
    "        if word in labs:\n",
    "            glabs.append(word)\n",
    "        else :\n",
    "            for w in word.split(\"-\"):\n",
    "                if w in labs:\n",
    "                    glabs.append(w)\n",
    "                    \n",
    "    glabs = list(dict.fromkeys(glabs))\n",
    "    general_labs.append(glabs)\n",
    "\n",
    "df['general_labels'] = general_labs\n",
    "#print(df.general_labels)"
   ]
  },
  {
   "cell_type": "markdown",
   "metadata": {},
   "source": [
    "# Analyze of data"
   ]
  },
  {
   "cell_type": "code",
   "execution_count": null,
   "metadata": {},
   "outputs": [],
   "source": [
    "labs = ['atelier', 'autre', 'brocante', 'cinema', 'concert', 'conference',\n",
    "       'etudiant', 'exposition', 'fete', 'lecture', 'spectacle', 'sport',\n",
    "       'theatre']\n",
    "dict_lab = dict.fromkeys(labs, 0)\n",
    "for l in df['general_labels']:\n",
    "    for l1 in l:\n",
    "        dict_lab[l1] += 1\n",
    "#print(dict_lab)\n",
    "print(list(dict_lab.values()))"
   ]
  },
  {
   "cell_type": "code",
   "execution_count": null,
   "metadata": {},
   "outputs": [],
   "source": [
    "import os\n",
    "import csv\n",
    "import pandas as pd\n",
    "import numpy as np\n",
    "import matplotlib.pyplot as plt\n",
    "import seaborn as sns\n",
    "categories = list(dict_lab.keys())\n",
    "sns.set(font_scale = 1.2)\n",
    "plt.figure(figsize=(15,8))\n",
    "ax= sns.barplot(categories, list(dict_lab.values()))\n",
    "#plt.title(\"Unbalanced between labels\", fontsize=24)\n",
    "plt.ylabel('Number of times each label appear', fontsize=18)\n",
    "plt.xlabel('Name of Labels ', fontsize=18)\n"
   ]
  },
  {
   "cell_type": "code",
   "execution_count": null,
   "metadata": {},
   "outputs": [],
   "source": [
    "dict_nbrlab = [0,0,0,0,0,0,0,0]\n",
    "for l in df['general_labels']:\n",
    "    dict_nbrlab[(len(l))] += 1\n",
    "\n",
    "\n",
    "sns.set(font_scale = 1.5)\n",
    "plt.figure(figsize=(15,8))\n",
    "ax= sns.barplot(list(range(1,8)), dict_nbrlab[1:8])\n",
    "#plt.title(\"Unbalanced between labels\", fontsize=24)\n",
    "plt.ylabel('Number of Events', fontsize=24)\n",
    "plt.xlabel('Number of Labels ', fontsize=24)\n",
    "print((dict_nbrlab[1]))"
   ]
  },
  {
   "cell_type": "markdown",
   "metadata": {},
   "source": [
    "# Creating Model"
   ]
  },
  {
   "cell_type": "code",
   "execution_count": null,
   "metadata": {},
   "outputs": [],
   "source": [
    "multilabel = MultiLabelBinarizer()"
   ]
  },
  {
   "cell_type": "code",
   "execution_count": null,
   "metadata": {},
   "outputs": [],
   "source": [
    "y = multilabel.fit_transform(df['general_labels'])"
   ]
  },
  {
   "cell_type": "code",
   "execution_count": null,
   "metadata": {},
   "outputs": [],
   "source": [
    "y"
   ]
  },
  {
   "cell_type": "code",
   "execution_count": null,
   "metadata": {},
   "outputs": [],
   "source": [
    "multilabel.classes_"
   ]
  },
  {
   "cell_type": "code",
   "execution_count": null,
   "metadata": {},
   "outputs": [],
   "source": [
    "pd.DataFrame(y,columns=multilabel.classes_)"
   ]
  },
  {
   "cell_type": "code",
   "execution_count": null,
   "metadata": {},
   "outputs": [],
   "source": [
    "tfidf = TfidfVectorizer(analyzer='word', max_features = 5000, ngram_range=(1,2))"
   ]
  },
  {
   "cell_type": "code",
   "execution_count": null,
   "metadata": {},
   "outputs": [],
   "source": [
    "X = tfidf.fit_transform(df['description'])\n",
    "\n",
    "#X = tfidf.fit_transform(read_descr_treetag)\n",
    "\n"
   ]
  },
  {
   "cell_type": "code",
   "execution_count": null,
   "metadata": {},
   "outputs": [],
   "source": [
    "new_alldescr"
   ]
  },
  {
   "cell_type": "code",
   "execution_count": null,
   "metadata": {},
   "outputs": [],
   "source": [
    "X.shape"
   ]
  },
  {
   "cell_type": "code",
   "execution_count": null,
   "metadata": {},
   "outputs": [],
   "source": [
    "X_train, X_test, y_train, y_test = train_test_split(X,y,test_size=0.2, random_state = 0)"
   ]
  },
  {
   "cell_type": "code",
   "execution_count": null,
   "metadata": {},
   "outputs": [],
   "source": []
  },
  {
   "cell_type": "code",
   "execution_count": null,
   "metadata": {},
   "outputs": [],
   "source": [
    "sgd = SGDClassifier()\n",
    "lr = LogisticRegression(solver = 'lbfgs')\n",
    "svc = LinearSVC()\n",
    "perceptron = Perceptron()\n",
    "pac = PassiveAggressiveClassifier()"
   ]
  },
  {
   "cell_type": "code",
   "execution_count": 32,
   "metadata": {},
   "outputs": [],
   "source": [
    "def j_score(y_true,y_pred):\n",
    "    jaccard = np.minimum(y_true,y_pred).sum(axis = 1)/np.maximum(y_true, y_pred).sum(axis=1)\n",
    "    return jaccard.mean()*100\n",
    "\n",
    "\n",
    "def print_score(y_pred, clf):\n",
    "    print(\"Clf: \", clf.__class__.__name__)\n",
    "    print(\"Jaccard score {}\".format(j_score(y_test, y_pred)))\n",
    "    print('----')"
   ]
  },
  {
   "cell_type": "code",
   "execution_count": null,
   "metadata": {},
   "outputs": [],
   "source": [
    "from sklearn.metrics import hamming_loss\n",
    "for classifier in [sgd, lr, svc, perceptron, pac]:\n",
    "    clf = OneVsRestClassifier(classifier)\n",
    "    #clf = OneVsOneClassifier(classifier)    \n",
    "    clf.fit(X_train, y_train)\n",
    "    y_pred = clf.predict(X_test)\n",
    "    print_score(y_pred, classifier)\n",
    "    print(hamming_loss(y_test, y_pred))"
   ]
  },
  {
   "cell_type": "markdown",
   "metadata": {},
   "source": [
    "# Comparing preprocess method"
   ]
  },
  {
   "cell_type": "code",
   "execution_count": 245,
   "metadata": {},
   "outputs": [],
   "source": [
    "rang = range(1,1000,50)\n",
    "score=[]\n",
    "for n_feat in rang:\n",
    "    multilabel = MultiLabelBinarizer()\n",
    "    y = multilabel.fit_transform(df['general_labels'])\n",
    "    tfidf = TfidfVectorizer(analyzer='word', max_features = n_feat, ngram_range=(1,2))\n",
    "    X = tfidf.fit_transform(df['description'])\n",
    "    #print((tfidf.get_feature_names()))\n",
    "    X_train, X_test, y_train, y_test = train_test_split(X,y,test_size=0.2, random_state = 0)\n",
    "    pac = PassiveAggressiveClassifier()\n",
    "    clf = OneVsRestClassifier(pac)  \n",
    "    clf.fit(X_train, y_train)\n",
    "    y_pred = clf.predict(X_test)\n",
    "    score.append(j_score(y_test, y_pred))"
   ]
  },
  {
   "cell_type": "code",
   "execution_count": 246,
   "metadata": {},
   "outputs": [],
   "source": [
    "scoretreetag=[]\n",
    "for n_feat in rang:\n",
    "    multilabel = MultiLabelBinarizer()\n",
    "    y = multilabel.fit_transform(df['general_labels'])\n",
    "    tfidf = TfidfVectorizer(analyzer='word', max_features = n_feat, ngram_range=(1,2))\n",
    "    X = tfidf.fit_transform(df['desc_treetag'])\n",
    "    #print((tfidf.get_feature_names()))\n",
    "    X_train, X_test, y_train, y_test = train_test_split(X,y,test_size=0.2, random_state = 0)\n",
    "    pac = PassiveAggressiveClassifier()\n",
    "    clf = OneVsRestClassifier(pac)  \n",
    "    clf.fit(X_train, y_train)\n",
    "    y_pred = clf.predict(X_test)\n",
    "    scoretreetag.append(j_score(y_test, y_pred))"
   ]
  },
  {
   "cell_type": "code",
   "execution_count": 247,
   "metadata": {},
   "outputs": [],
   "source": [
    "scorenltk=[]\n",
    "for n_feat in rang:\n",
    "    multilabel = MultiLabelBinarizer()\n",
    "    y = multilabel.fit_transform(df['general_labels'])\n",
    "    tfidf = TfidfVectorizer(analyzer='word', max_features = n_feat, ngram_range=(1,2))\n",
    "    X = tfidf.fit_transform(df['desc_nltk'])\n",
    "    #print((tfidf.get_feature_names()))\n",
    "    X_train, X_test, y_train, y_test = train_test_split(X,y,test_size=0.2, random_state = 0)\n",
    "    pac = PassiveAggressiveClassifier()\n",
    "    clf = OneVsRestClassifier(pac)  \n",
    "    clf.fit(X_train, y_train)\n",
    "    y_pred = clf.predict(X_test)\n",
    "    scorenltk.append(j_score(y_test, y_pred))"
   ]
  },
  {
   "cell_type": "code",
   "execution_count": 248,
   "metadata": {},
   "outputs": [
    {
     "ename": "AttributeError",
     "evalue": "'spacy.tokens.doc.Doc' object has no attribute 'lower'",
     "output_type": "error",
     "traceback": [
      "\u001b[1;31m---------------------------------------------------------------------------\u001b[0m",
      "\u001b[1;31mAttributeError\u001b[0m                            Traceback (most recent call last)",
      "\u001b[1;32m<ipython-input-248-c72ffc0d3828>\u001b[0m in \u001b[0;36m<module>\u001b[1;34m\u001b[0m\n\u001b[0;32m      5\u001b[0m     \u001b[0my\u001b[0m \u001b[1;33m=\u001b[0m \u001b[0mmultilabel\u001b[0m\u001b[1;33m.\u001b[0m\u001b[0mfit_transform\u001b[0m\u001b[1;33m(\u001b[0m\u001b[0mdf\u001b[0m\u001b[1;33m[\u001b[0m\u001b[1;34m'general_labels'\u001b[0m\u001b[1;33m]\u001b[0m\u001b[1;33m)\u001b[0m\u001b[1;33m\u001b[0m\u001b[1;33m\u001b[0m\u001b[0m\n\u001b[0;32m      6\u001b[0m     \u001b[0mtfidf\u001b[0m \u001b[1;33m=\u001b[0m \u001b[0mTfidfVectorizer\u001b[0m\u001b[1;33m(\u001b[0m\u001b[0manalyzer\u001b[0m\u001b[1;33m=\u001b[0m\u001b[1;34m'word'\u001b[0m\u001b[1;33m,\u001b[0m \u001b[0mmax_features\u001b[0m \u001b[1;33m=\u001b[0m \u001b[0mn_feat\u001b[0m\u001b[1;33m,\u001b[0m \u001b[0mngram_range\u001b[0m\u001b[1;33m=\u001b[0m\u001b[1;33m(\u001b[0m\u001b[1;36m1\u001b[0m\u001b[1;33m,\u001b[0m\u001b[1;36m2\u001b[0m\u001b[1;33m)\u001b[0m\u001b[1;33m)\u001b[0m\u001b[1;33m\u001b[0m\u001b[1;33m\u001b[0m\u001b[0m\n\u001b[1;32m----> 7\u001b[1;33m     \u001b[0mX\u001b[0m \u001b[1;33m=\u001b[0m \u001b[0mtfidf\u001b[0m\u001b[1;33m.\u001b[0m\u001b[0mfit_transform\u001b[0m\u001b[1;33m(\u001b[0m\u001b[0mdf\u001b[0m\u001b[1;33m[\u001b[0m\u001b[1;34m'desc_spacy'\u001b[0m\u001b[1;33m]\u001b[0m\u001b[1;33m)\u001b[0m\u001b[1;33m\u001b[0m\u001b[1;33m\u001b[0m\u001b[0m\n\u001b[0m\u001b[0;32m      8\u001b[0m     \u001b[0mprint\u001b[0m\u001b[1;33m(\u001b[0m\u001b[1;33m(\u001b[0m\u001b[0mtfidf\u001b[0m\u001b[1;33m.\u001b[0m\u001b[0mget_feature_names\u001b[0m\u001b[1;33m(\u001b[0m\u001b[1;33m)\u001b[0m\u001b[1;33m)\u001b[0m\u001b[1;33m)\u001b[0m\u001b[1;33m\u001b[0m\u001b[1;33m\u001b[0m\u001b[0m\n\u001b[0;32m      9\u001b[0m     \u001b[0mX_train\u001b[0m\u001b[1;33m,\u001b[0m \u001b[0mX_test\u001b[0m\u001b[1;33m,\u001b[0m \u001b[0my_train\u001b[0m\u001b[1;33m,\u001b[0m \u001b[0my_test\u001b[0m \u001b[1;33m=\u001b[0m \u001b[0mtrain_test_split\u001b[0m\u001b[1;33m(\u001b[0m\u001b[0mX\u001b[0m\u001b[1;33m,\u001b[0m\u001b[0my\u001b[0m\u001b[1;33m,\u001b[0m\u001b[0mtest_size\u001b[0m\u001b[1;33m=\u001b[0m\u001b[1;36m0.2\u001b[0m\u001b[1;33m,\u001b[0m \u001b[0mrandom_state\u001b[0m \u001b[1;33m=\u001b[0m \u001b[1;36m0\u001b[0m\u001b[1;33m)\u001b[0m\u001b[1;33m\u001b[0m\u001b[1;33m\u001b[0m\u001b[0m\n",
      "\u001b[1;32mc:\\users\\nicol\\appdata\\local\\programs\\python\\python38\\lib\\site-packages\\sklearn\\feature_extraction\\text.py\u001b[0m in \u001b[0;36mfit_transform\u001b[1;34m(self, raw_documents, y)\u001b[0m\n\u001b[0;32m   1848\u001b[0m         \"\"\"\n\u001b[0;32m   1849\u001b[0m         \u001b[0mself\u001b[0m\u001b[1;33m.\u001b[0m\u001b[0m_check_params\u001b[0m\u001b[1;33m(\u001b[0m\u001b[1;33m)\u001b[0m\u001b[1;33m\u001b[0m\u001b[1;33m\u001b[0m\u001b[0m\n\u001b[1;32m-> 1850\u001b[1;33m         \u001b[0mX\u001b[0m \u001b[1;33m=\u001b[0m \u001b[0msuper\u001b[0m\u001b[1;33m(\u001b[0m\u001b[1;33m)\u001b[0m\u001b[1;33m.\u001b[0m\u001b[0mfit_transform\u001b[0m\u001b[1;33m(\u001b[0m\u001b[0mraw_documents\u001b[0m\u001b[1;33m)\u001b[0m\u001b[1;33m\u001b[0m\u001b[1;33m\u001b[0m\u001b[0m\n\u001b[0m\u001b[0;32m   1851\u001b[0m         \u001b[0mself\u001b[0m\u001b[1;33m.\u001b[0m\u001b[0m_tfidf\u001b[0m\u001b[1;33m.\u001b[0m\u001b[0mfit\u001b[0m\u001b[1;33m(\u001b[0m\u001b[0mX\u001b[0m\u001b[1;33m)\u001b[0m\u001b[1;33m\u001b[0m\u001b[1;33m\u001b[0m\u001b[0m\n\u001b[0;32m   1852\u001b[0m         \u001b[1;31m# X is already a transformed view of raw_documents so\u001b[0m\u001b[1;33m\u001b[0m\u001b[1;33m\u001b[0m\u001b[1;33m\u001b[0m\u001b[0m\n",
      "\u001b[1;32mc:\\users\\nicol\\appdata\\local\\programs\\python\\python38\\lib\\site-packages\\sklearn\\feature_extraction\\text.py\u001b[0m in \u001b[0;36mfit_transform\u001b[1;34m(self, raw_documents, y)\u001b[0m\n\u001b[0;32m   1201\u001b[0m         \u001b[0mmax_features\u001b[0m \u001b[1;33m=\u001b[0m \u001b[0mself\u001b[0m\u001b[1;33m.\u001b[0m\u001b[0mmax_features\u001b[0m\u001b[1;33m\u001b[0m\u001b[1;33m\u001b[0m\u001b[0m\n\u001b[0;32m   1202\u001b[0m \u001b[1;33m\u001b[0m\u001b[0m\n\u001b[1;32m-> 1203\u001b[1;33m         vocabulary, X = self._count_vocab(raw_documents,\n\u001b[0m\u001b[0;32m   1204\u001b[0m                                           self.fixed_vocabulary_)\n\u001b[0;32m   1205\u001b[0m \u001b[1;33m\u001b[0m\u001b[0m\n",
      "\u001b[1;32mc:\\users\\nicol\\appdata\\local\\programs\\python\\python38\\lib\\site-packages\\sklearn\\feature_extraction\\text.py\u001b[0m in \u001b[0;36m_count_vocab\u001b[1;34m(self, raw_documents, fixed_vocab)\u001b[0m\n\u001b[0;32m   1113\u001b[0m         \u001b[1;32mfor\u001b[0m \u001b[0mdoc\u001b[0m \u001b[1;32min\u001b[0m \u001b[0mraw_documents\u001b[0m\u001b[1;33m:\u001b[0m\u001b[1;33m\u001b[0m\u001b[1;33m\u001b[0m\u001b[0m\n\u001b[0;32m   1114\u001b[0m             \u001b[0mfeature_counter\u001b[0m \u001b[1;33m=\u001b[0m \u001b[1;33m{\u001b[0m\u001b[1;33m}\u001b[0m\u001b[1;33m\u001b[0m\u001b[1;33m\u001b[0m\u001b[0m\n\u001b[1;32m-> 1115\u001b[1;33m             \u001b[1;32mfor\u001b[0m \u001b[0mfeature\u001b[0m \u001b[1;32min\u001b[0m \u001b[0manalyze\u001b[0m\u001b[1;33m(\u001b[0m\u001b[0mdoc\u001b[0m\u001b[1;33m)\u001b[0m\u001b[1;33m:\u001b[0m\u001b[1;33m\u001b[0m\u001b[1;33m\u001b[0m\u001b[0m\n\u001b[0m\u001b[0;32m   1116\u001b[0m                 \u001b[1;32mtry\u001b[0m\u001b[1;33m:\u001b[0m\u001b[1;33m\u001b[0m\u001b[1;33m\u001b[0m\u001b[0m\n\u001b[0;32m   1117\u001b[0m                     \u001b[0mfeature_idx\u001b[0m \u001b[1;33m=\u001b[0m \u001b[0mvocabulary\u001b[0m\u001b[1;33m[\u001b[0m\u001b[0mfeature\u001b[0m\u001b[1;33m]\u001b[0m\u001b[1;33m\u001b[0m\u001b[1;33m\u001b[0m\u001b[0m\n",
      "\u001b[1;32mc:\\users\\nicol\\appdata\\local\\programs\\python\\python38\\lib\\site-packages\\sklearn\\feature_extraction\\text.py\u001b[0m in \u001b[0;36m_analyze\u001b[1;34m(doc, analyzer, tokenizer, ngrams, preprocessor, decoder, stop_words)\u001b[0m\n\u001b[0;32m    102\u001b[0m     \u001b[1;32melse\u001b[0m\u001b[1;33m:\u001b[0m\u001b[1;33m\u001b[0m\u001b[1;33m\u001b[0m\u001b[0m\n\u001b[0;32m    103\u001b[0m         \u001b[1;32mif\u001b[0m \u001b[0mpreprocessor\u001b[0m \u001b[1;32mis\u001b[0m \u001b[1;32mnot\u001b[0m \u001b[1;32mNone\u001b[0m\u001b[1;33m:\u001b[0m\u001b[1;33m\u001b[0m\u001b[1;33m\u001b[0m\u001b[0m\n\u001b[1;32m--> 104\u001b[1;33m             \u001b[0mdoc\u001b[0m \u001b[1;33m=\u001b[0m \u001b[0mpreprocessor\u001b[0m\u001b[1;33m(\u001b[0m\u001b[0mdoc\u001b[0m\u001b[1;33m)\u001b[0m\u001b[1;33m\u001b[0m\u001b[1;33m\u001b[0m\u001b[0m\n\u001b[0m\u001b[0;32m    105\u001b[0m         \u001b[1;32mif\u001b[0m \u001b[0mtokenizer\u001b[0m \u001b[1;32mis\u001b[0m \u001b[1;32mnot\u001b[0m \u001b[1;32mNone\u001b[0m\u001b[1;33m:\u001b[0m\u001b[1;33m\u001b[0m\u001b[1;33m\u001b[0m\u001b[0m\n\u001b[0;32m    106\u001b[0m             \u001b[0mdoc\u001b[0m \u001b[1;33m=\u001b[0m \u001b[0mtokenizer\u001b[0m\u001b[1;33m(\u001b[0m\u001b[0mdoc\u001b[0m\u001b[1;33m)\u001b[0m\u001b[1;33m\u001b[0m\u001b[1;33m\u001b[0m\u001b[0m\n",
      "\u001b[1;32mc:\\users\\nicol\\appdata\\local\\programs\\python\\python38\\lib\\site-packages\\sklearn\\feature_extraction\\text.py\u001b[0m in \u001b[0;36m_preprocess\u001b[1;34m(doc, accent_function, lower)\u001b[0m\n\u001b[0;32m     67\u001b[0m     \"\"\"\n\u001b[0;32m     68\u001b[0m     \u001b[1;32mif\u001b[0m \u001b[0mlower\u001b[0m\u001b[1;33m:\u001b[0m\u001b[1;33m\u001b[0m\u001b[1;33m\u001b[0m\u001b[0m\n\u001b[1;32m---> 69\u001b[1;33m         \u001b[0mdoc\u001b[0m \u001b[1;33m=\u001b[0m \u001b[0mdoc\u001b[0m\u001b[1;33m.\u001b[0m\u001b[0mlower\u001b[0m\u001b[1;33m(\u001b[0m\u001b[1;33m)\u001b[0m\u001b[1;33m\u001b[0m\u001b[1;33m\u001b[0m\u001b[0m\n\u001b[0m\u001b[0;32m     70\u001b[0m     \u001b[1;32mif\u001b[0m \u001b[0maccent_function\u001b[0m \u001b[1;32mis\u001b[0m \u001b[1;32mnot\u001b[0m \u001b[1;32mNone\u001b[0m\u001b[1;33m:\u001b[0m\u001b[1;33m\u001b[0m\u001b[1;33m\u001b[0m\u001b[0m\n\u001b[0;32m     71\u001b[0m         \u001b[0mdoc\u001b[0m \u001b[1;33m=\u001b[0m \u001b[0maccent_function\u001b[0m\u001b[1;33m(\u001b[0m\u001b[0mdoc\u001b[0m\u001b[1;33m)\u001b[0m\u001b[1;33m\u001b[0m\u001b[1;33m\u001b[0m\u001b[0m\n",
      "\u001b[1;31mAttributeError\u001b[0m: 'spacy.tokens.doc.Doc' object has no attribute 'lower'"
     ]
    }
   ],
   "source": [
    "#spacy preprocessing not done\n",
    "scorespacy=[]\n",
    "for n_feat in rang:\n",
    "    multilabel = MultiLabelBinarizer()\n",
    "    y = multilabel.fit_transform(df['general_labels'])\n",
    "    tfidf = TfidfVectorizer(analyzer='word', max_features = n_feat, ngram_range=(1,2))\n",
    "    X = tfidf.fit_transform(df['desc_spacy'])\n",
    "    print((tfidf.get_feature_names()))\n",
    "    X_train, X_test, y_train, y_test = train_test_split(X,y,test_size=0.2, random_state = 0)\n",
    "    pac = PassiveAggressiveClassifier()\n",
    "    clf = OneVsRestClassifier(pac)  \n",
    "    clf.fit(X_train, y_train)\n",
    "    y_pred = clf.predict(X_test)\n",
    "    scorespacy.append(j_score(y_test, y_pred))"
   ]
  },
  {
   "cell_type": "code",
   "execution_count": 249,
   "metadata": {},
   "outputs": [
    {
     "data": {
      "image/png": "[encoded data removed]",
      "text/plain": [
       "<Figure size 432x288 with 1 Axes>"
      ]
     },
     "metadata": {
      "needs_background": "light"
     },
     "output_type": "display_data"
    }
   ],
   "source": [
    "import matplotlib.pyplot as plt\n",
    "plt.plot(rang, score, label=\"nopreprocess\")\n",
    "plt.plot(rang, scoretreetag, label=\"treetagger\")\n",
    "plt.plot(rang, scorenltk, label=\"NLTK\")\n",
    "# naming the x axis \n",
    "plt.xlabel('Number of feature') \n",
    "# naming the y axis \n",
    "plt.ylabel('Jaccard Index') \n",
    "# giving a title to my graph \n",
    "plt.title('Is preprocessing usefull ?') \n",
    "plt.legend()\n",
    "plt.show()"
   ]
  },
  {
   "cell_type": "code",
   "execution_count": null,
   "metadata": {},
   "outputs": [],
   "source": []
  },
  {
   "cell_type": "code",
   "execution_count": 122,
   "metadata": {},
   "outputs": [],
   "source": []
  }
 ],
 "metadata": {
  "kernelspec": {
   "display_name": "Python 3",
   "language": "python",
   "name": "python3"
  },
  "language_info": {
   "codemirror_mode": {
    "name": "ipython",
    "version": 3
   },
   "file_extension": ".py",
   "mimetype": "text/x-python",
   "name": "python",
   "nbconvert_exporter": "python",
   "pygments_lexer": "ipython3",
   "version": "3.8.7"
  }
 },
 "nbformat": 4,
 "nbformat_minor": 2
}
